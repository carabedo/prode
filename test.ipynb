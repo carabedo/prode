{
 "cells": [
  {
   "cell_type": "code",
   "execution_count": 89,
   "metadata": {},
   "outputs": [],
   "source": [
    "import requests\n",
    "\n",
    "tabla_url = \"https://e2jaochskab4mlg3v5sb6uimuy0pnhov.lambda-url.us-east-1.on.aws/\"\n",
    "response = requests.request(\"GET\", tabla_url)\n",
    "list_ids=response.json()\n",
    "ids=['<strong> Tabla de Posiciones:</strong>','']\n",
    "for i,x in enumerate(list_ids):\n",
    "    a=x['name']\n",
    "    ids.append(str(i+1) + '{0: <35}'.format(a) + str(0))\n"
   ]
  },
  {
   "cell_type": "code",
   "execution_count": 92,
   "metadata": {},
   "outputs": [],
   "source": [
    "ids=[' Tabla de Posiciones:','']\n",
    "for i,x in enumerate(list_ids):\n",
    "    a=x['name']\n",
    "    ids.append(str(i+1) +' '+ a +(25-len(a))*' '+ str(0))"
   ]
  },
  {
   "cell_type": "code",
   "execution_count": 93,
   "metadata": {},
   "outputs": [
    {
     "data": {
      "text/plain": [
       "' Tabla de Posiciones:\\n\\n1 fer                      0'"
      ]
     },
     "execution_count": 93,
     "metadata": {},
     "output_type": "execute_result"
    }
   ],
   "source": [
    "'\\n'.join(ids)"
   ]
  },
  {
   "cell_type": "code",
   "execution_count": 87,
   "metadata": {},
   "outputs": [],
   "source": [
    "\n",
    "url = \"https://api.telegram.org/bot5597623661:AAFyWZD91HiPIeaKmF89iIsxAp9lgmfF5Ig/sendMessage\"\n",
    "\n",
    "payload={'text': '```'+'\\n'.join(ids)+'```',\n",
    "'chat_id': '224798982',\n",
    "'parse_mode': 'MarkdownV2'}\n",
    "\n",
    "response = requests.request(\"POST\", url,data=payload)\n",
    "\n"
   ]
  },
  {
   "cell_type": "code",
   "execution_count": 64,
   "metadata": {},
   "outputs": [
    {
     "data": {
      "text/plain": [
       "28"
      ]
     },
     "execution_count": 64,
     "metadata": {},
     "output_type": "execute_result"
    }
   ],
   "source": [
    "len('2 andres.armua@ed.ac.uk____0')"
   ]
  },
  {
   "cell_type": "code",
   "execution_count": 81,
   "metadata": {},
   "outputs": [
    {
     "data": {
      "text/plain": [
       "<Response [200]>"
      ]
     },
     "execution_count": 81,
     "metadata": {},
     "output_type": "execute_result"
    }
   ],
   "source": [
    "response"
   ]
  },
  {
   "cell_type": "code",
   "execution_count": 1,
   "metadata": {},
   "outputs": [],
   "source": [
    "import requests"
   ]
  },
  {
   "cell_type": "code",
   "execution_count": 5,
   "metadata": {},
   "outputs": [],
   "source": [
    "url='https://x14blnzsqf.execute-api.us-east-2.amazonaws.com/prod/fixture'"
   ]
  },
  {
   "cell_type": "code",
   "execution_count": 3,
   "metadata": {},
   "outputs": [],
   "source": [
    "fix=requests.get(url)"
   ]
  },
  {
   "cell_type": "code",
   "execution_count": 4,
   "metadata": {},
   "outputs": [
    {
     "data": {
      "text/plain": [
       "<Response [401]>"
      ]
     },
     "execution_count": 4,
     "metadata": {},
     "output_type": "execute_result"
    }
   ],
   "source": [
    "fix\n"
   ]
  },
  {
   "cell_type": "markdown",
   "metadata": {},
   "source": [
    "## TEST"
   ]
  },
  {
   "cell_type": "code",
   "execution_count": 46,
   "metadata": {},
   "outputs": [],
   "source": [
    "import requests\n",
    "\n",
    "headers = {\n",
    "    'authority': 'x14blnzsqf.execute-api.us-east-2.amazonaws.com',\n",
    "    'accept': 'application/json, text/plain, */*',\n",
    "    'accept-language': 'en-US,en;q=0.9,es;q=0.8',\n",
    "    'dnt': '1',\n",
    "    'origin': 'https://www.lanacion.com.ar',\n",
    "    'referer': 'https://www.lanacion.com.ar/',\n",
    "    'sec-ch-ua': '\"Google Chrome\";v=\"107\", \"Chromium\";v=\"107\", \"Not=A?Brand\";v=\"24\"',\n",
    "    'sec-ch-ua-mobile': '?1',\n",
    "    'sec-ch-ua-platform': '\"Android\"',\n",
    "    'sec-fetch-dest': 'empty',\n",
    "    'sec-fetch-mode': 'cors',\n",
    "    'sec-fetch-site': 'cross-site',\n",
    "    'user-agent': 'Mozilla/5.0 (Linux; Android 6.0; Nexus 5 Build/MRA58N) AppleWebKit/537.36 (KHTML, like Gecko) Chrome/107.0.0.0 Mobile Safari/537.36',\n",
    "    'x-token': '36FE17A0-2E7B-456F-9855-124601188D55',\n",
    "    'x-value': 'f794a873-33e0-40d1-99d0-c06331a6d507',\n",
    "}\n",
    "\n",
    "response = requests.get('https://x14blnzsqf.execute-api.us-east-2.amazonaws.com/prod/fixture', headers=headers)"
   ]
  },
  {
   "cell_type": "code",
   "execution_count": 48,
   "metadata": {},
   "outputs": [],
   "source": [
    "fix=response.json()"
   ]
  },
  {
   "cell_type": "code",
   "execution_count": 51,
   "metadata": {},
   "outputs": [],
   "source": [
    "def partidosTerminados(fix):\n",
    "    term=[]\n",
    "    for x in fix:\n",
    "        if x['status'] == 'full_time':\n",
    "            term.append(x)\n",
    "    return term\n",
    "\n",
    "def partidosHoy(fix):\n",
    "    hoy=[]\n",
    "    for x in fix:\n",
    "        dia=datetime.strptime(x['datetime'], '%Y-%m-%dT%H:%M:%S%z').date()\n",
    "        if  dia == datetime.today().date():\n",
    "            hoy.append(x)\n",
    "    \n",
    "    return hoy\n"
   ]
  },
  {
   "cell_type": "code",
   "execution_count": 52,
   "metadata": {},
   "outputs": [
    {
     "data": {
      "text/plain": [
       "datetime.date(2022, 11, 25)"
      ]
     },
     "execution_count": 52,
     "metadata": {},
     "output_type": "execute_result"
    }
   ],
   "source": [
    "from datetime import date\n",
    "\n",
    "today = date.today()\n",
    "today"
   ]
  },
  {
   "cell_type": "code",
   "execution_count": 55,
   "metadata": {},
   "outputs": [
    {
     "data": {
      "text/plain": [
       "datetime.datetime(2022, 11, 20, 13, 0, tzinfo=zoneinfo.ZoneInfo(key='America/Buenos_Aires'))"
      ]
     },
     "execution_count": 55,
     "metadata": {},
     "output_type": "execute_result"
    }
   ],
   "source": [
    "from datetime import datetime\n",
    "from zoneinfo import ZoneInfo\n",
    "\n",
    "datetime.strptime(fix[0]['datetime'], '%Y-%m-%dT%H:%M:%S%z').astimezone(ZoneInfo('America/Buenos_Aires'))\n"
   ]
  },
  {
   "cell_type": "code",
   "execution_count": 56,
   "metadata": {},
   "outputs": [
    {
     "data": {
      "text/plain": [
       "13"
      ]
     },
     "execution_count": 56,
     "metadata": {},
     "output_type": "execute_result"
    }
   ],
   "source": [
    "datetime.strptime(fix[0]['datetime'], '%Y-%m-%dT%H:%M:%S%z').astimezone(ZoneInfo('America/Buenos_Aires')).hour\n"
   ]
  },
  {
   "cell_type": "code",
   "execution_count": 57,
   "metadata": {},
   "outputs": [
    {
     "data": {
      "text/plain": [
       "False"
      ]
     },
     "execution_count": 57,
     "metadata": {},
     "output_type": "execute_result"
    }
   ],
   "source": [
    "datetime.strptime(fix[0]['datetime'], '%Y-%m-%dT%H:%M:%S%z').date() == datetime.today().date()\n"
   ]
  },
  {
   "cell_type": "code",
   "execution_count": 58,
   "metadata": {
    "scrolled": false
   },
   "outputs": [],
   "source": [
    "finished=partidosTerminados(fix)"
   ]
  },
  {
   "cell_type": "code",
   "execution_count": 60,
   "metadata": {},
   "outputs": [],
   "source": [
    "import pandas as pd"
   ]
  },
  {
   "cell_type": "code",
   "execution_count": 61,
   "metadata": {},
   "outputs": [],
   "source": [
    "df=pd.read_csv('results.csv')"
   ]
  },
  {
   "cell_type": "code",
   "execution_count": 64,
   "metadata": {},
   "outputs": [],
   "source": [
    "import json"
   ]
  },
  {
   "cell_type": "code",
   "execution_count": 65,
   "metadata": {},
   "outputs": [],
   "source": [
    "preds=json.loads(df.iloc[0].preds)"
   ]
  },
  {
   "cell_type": "code",
   "execution_count": 66,
   "metadata": {},
   "outputs": [
    {
     "data": {
      "text/plain": [
       "96"
      ]
     },
     "execution_count": 66,
     "metadata": {},
     "output_type": "execute_result"
    }
   ],
   "source": [
    "len(preds)"
   ]
  },
  {
   "cell_type": "code",
   "execution_count": 67,
   "metadata": {},
   "outputs": [],
   "source": [
    "import numpy as np\n",
    "apreds=np.array(preds)\n",
    "preds2=apreds.reshape([8,12])"
   ]
  },
  {
   "cell_type": "code",
   "execution_count": null,
   "metadata": {},
   "outputs": [],
   "source": []
  },
  {
   "cell_type": "code",
   "execution_count": 69,
   "metadata": {},
   "outputs": [],
   "source": [
    "fpreds=[]\n",
    "for x in preds2:\n",
    "    fpreds.append(x.reshape([6,2]))"
   ]
  },
  {
   "cell_type": "code",
   "execution_count": 71,
   "metadata": {},
   "outputs": [
    {
     "data": {
      "text/plain": [
       "48"
      ]
     },
     "execution_count": 71,
     "metadata": {},
     "output_type": "execute_result"
    }
   ],
   "source": [
    "len(fix[:48])"
   ]
  },
  {
   "cell_type": "code",
   "execution_count": 72,
   "metadata": {},
   "outputs": [],
   "source": [
    "def calculoPuntos(fix,n):\n",
    "    print(df.name.iloc[n])\n",
    "    preds=json.loads(df.preds.iloc[n])\n",
    "    finished=partidosTerminados(fix)\n",
    "    preds_dict=get_preds_dict(fix,preds)\n",
    "    puntos=[]\n",
    "    for x in finished:\n",
    "        print('Resultado:',x['team_1'],x['goal_1_opta'],x['team_2'],x['goal_2_opta'])\n",
    "        print('Prediccion:',x['team_1'],preds_dict[x['match_id']][0]['S'],x['team_2'],preds_dict[x['match_id']][1]['S'])\n",
    "\n",
    "        resultado = (int(x['goal_1_opta']), int(x['goal_2_opta']))\n",
    "        prediccion = (int(preds_dict[x['match_id']][0]['S']), int(preds_dict[x['match_id']][1]['S']))\n",
    "        score=puntaje(prediccion, resultado)\n",
    "        puntos.append(score)\n",
    "        print('Obtuviste:',score ,'puntos')\n",
    "        print()\n",
    "    print('Total ',np.array(puntos).sum(),'Puntos.')\n",
    "\n",
    "def calculoScore(fix,preds):\n",
    "    finished=partidosTerminados(fix)\n",
    "    preds_dict=get_preds_dict(fix,preds)\n",
    "    puntos=[]\n",
    "    for x in finished:\n",
    "  \n",
    "        resultado = (int(x['goal_1_opta']), int(x['goal_2_opta']))\n",
    "        prediccion = (int(preds_dict[x['match_id']][0]['S']), int(preds_dict[x['match_id']][1]['S']))\n",
    "        score=puntaje(prediccion, resultado)\n",
    "        puntos.append(score)\n",
    "    return np.array(puntos).sum()"
   ]
  },
  {
   "cell_type": "code",
   "execution_count": 73,
   "metadata": {},
   "outputs": [],
   "source": [
    "def get_preds_dict(fix,preds):\n",
    "    groups=['A','B','C','D','E','F','G','H']\n",
    "\n",
    "    fixGrupos=[]\n",
    "    for n in groups:\n",
    "        grupo=[]\n",
    "        for x in fix[:48]:\n",
    "            if x['group']== n:\n",
    "                grupo.append(x)\n",
    "        fixGrupos.append(grupo)       \n",
    "\n",
    "    ids_partidos=[]\n",
    "    for i,x in enumerate(fixGrupos):\n",
    "        for j,y in enumerate(x):\n",
    "            if j == 4:\n",
    "                ids_partidos.append(x[5]['match_id'])\n",
    "            elif j == 5:\n",
    "                ids_partidos.append(x[4]['match_id'])\n",
    "            else:\n",
    "                ids_partidos.append(y['match_id'])\n",
    "    apreds=np.array(preds)\n",
    "    preds48x2=apreds.reshape([48,2])\n",
    "    preds_dict=dict(zip(ids_partidos, preds48x2))     \n",
    "    return preds_dict\n",
    "\n",
    "def puntaje(prediccion, resultado):\n",
    "    if prediccion == resultado:\n",
    "        return 5\n",
    "\n",
    "    if np.sign(resultado[0] - resultado[1]) == np.sign(prediccion[0] - prediccion[1]):\n",
    "        return 3\n",
    "\n",
    "    return 0"
   ]
  },
  {
   "cell_type": "markdown",
   "metadata": {},
   "source": [
    "# Armo la tabla"
   ]
  },
  {
   "cell_type": "code",
   "execution_count": 75,
   "metadata": {},
   "outputs": [],
   "source": [
    "def tablapuntos(x):\n",
    "    preds=json.loads(x)\n",
    "    return calculoScore(fix,preds)"
   ]
  },
  {
   "cell_type": "code",
   "execution_count": 76,
   "metadata": {},
   "outputs": [],
   "source": [
    "puntos=df.preds.apply(lambda x: tablapuntos(x))"
   ]
  },
  {
   "cell_type": "code",
   "execution_count": 77,
   "metadata": {},
   "outputs": [],
   "source": [
    "df['puntos']=puntos"
   ]
  },
  {
   "cell_type": "code",
   "execution_count": 78,
   "metadata": {
    "scrolled": false
   },
   "outputs": [
    {
     "data": {
      "text/html": [
       "<div>\n",
       "<style scoped>\n",
       "    .dataframe tbody tr th:only-of-type {\n",
       "        vertical-align: middle;\n",
       "    }\n",
       "\n",
       "    .dataframe tbody tr th {\n",
       "        vertical-align: top;\n",
       "    }\n",
       "\n",
       "    .dataframe thead th {\n",
       "        text-align: right;\n",
       "    }\n",
       "</style>\n",
       "<table border=\"1\" class=\"dataframe\">\n",
       "  <thead>\n",
       "    <tr style=\"text-align: right;\">\n",
       "      <th></th>\n",
       "      <th>id</th>\n",
       "      <th>name</th>\n",
       "      <th>preds</th>\n",
       "      <th>puntos</th>\n",
       "    </tr>\n",
       "  </thead>\n",
       "  <tbody>\n",
       "    <tr>\n",
       "      <th>0</th>\n",
       "      <td>12525649_lgtrombetta@gmail.com</td>\n",
       "      <td>Leonardo</td>\n",
       "      <td>[{\"S\":\"0\"},{\"S\":\"2\"},{\"S\":\"1\"},{\"S\":\"3\"},{\"S\":...</td>\n",
       "      <td>39</td>\n",
       "    </tr>\n",
       "    <tr>\n",
       "      <th>4</th>\n",
       "      <td>720065757_ariel.haimovici@gmail.com</td>\n",
       "      <td>Ariel</td>\n",
       "      <td>[{\"S\":\"0\"},{\"S\":\"1\"},{\"S\":\"0\"},{\"S\":\"2\"},{\"S\":...</td>\n",
       "      <td>39</td>\n",
       "    </tr>\n",
       "    <tr>\n",
       "      <th>2</th>\n",
       "      <td>26915036_fede.barabas@gmail.com</td>\n",
       "      <td>Fede</td>\n",
       "      <td>[{\"S\":\"0\"},{\"S\":\"2\"},{\"S\":\"1\"},{\"S\":\"1\"},{\"S\":...</td>\n",
       "      <td>33</td>\n",
       "    </tr>\n",
       "    <tr>\n",
       "      <th>6</th>\n",
       "      <td>619906008_marianobarella@gmail.com</td>\n",
       "      <td>Mariano</td>\n",
       "      <td>[{\"S\":\"1\"},{\"S\":\"2\"},{\"S\":\"1\"},{\"S\":\"1\"},{\"S\":...</td>\n",
       "      <td>33</td>\n",
       "    </tr>\n",
       "    <tr>\n",
       "      <th>1</th>\n",
       "      <td>83230506_esonoparecefuncionar@gmail.com</td>\n",
       "      <td>Mer</td>\n",
       "      <td>[{\"S\":\"1\"},{\"S\":\"2\"},{\"S\":\"1\"},{\"S\":\"2\"},{\"S\":...</td>\n",
       "      <td>30</td>\n",
       "    </tr>\n",
       "    <tr>\n",
       "      <th>3</th>\n",
       "      <td>415250188_nahuel.freitas@gmail.com</td>\n",
       "      <td>freitas</td>\n",
       "      <td>[{\"S\":\"1\"},{\"S\":\"1\"},{\"S\":\"0\"},{\"S\":\"2\"},{\"S\":...</td>\n",
       "      <td>30</td>\n",
       "    </tr>\n",
       "    <tr>\n",
       "      <th>9</th>\n",
       "      <td>1277024606_gelpi640@gmail.com</td>\n",
       "      <td>Juli</td>\n",
       "      <td>[{\"S\":\"1\"},{\"S\":\"1\"},{\"S\":\"0\"},{\"S\":\"3\"},{\"S\":...</td>\n",
       "      <td>29</td>\n",
       "    </tr>\n",
       "    <tr>\n",
       "      <th>5</th>\n",
       "      <td>5206321186_ghisolfi_alina@hotmail.com</td>\n",
       "      <td>Alina</td>\n",
       "      <td>[{\"S\":\"1\"},{\"S\":\"0\"},{\"S\":\"1\"},{\"S\":\"2\"},{\"S\":...</td>\n",
       "      <td>27</td>\n",
       "    </tr>\n",
       "    <tr>\n",
       "      <th>7</th>\n",
       "      <td>630434327_andresarmua@gmail.com</td>\n",
       "      <td>Andres</td>\n",
       "      <td>[{\"S\":\"1\"},{\"S\":\"2\"},{\"S\":\"0\"},{\"S\":\"3\"},{\"S\":...</td>\n",
       "      <td>27</td>\n",
       "    </tr>\n",
       "    <tr>\n",
       "      <th>8</th>\n",
       "      <td>153626114_ionatan@gmail.com</td>\n",
       "      <td>Ionatan</td>\n",
       "      <td>[{\"S\":\"1\"},{\"S\":\"1\"},{\"S\":\"1\"},{\"S\":\"2\"},{\"S\":...</td>\n",
       "      <td>24</td>\n",
       "    </tr>\n",
       "  </tbody>\n",
       "</table>\n",
       "</div>"
      ],
      "text/plain": [
       "                                        id      name  \\\n",
       "0           12525649_lgtrombetta@gmail.com  Leonardo   \n",
       "4     720065757_ariel.haimovici@gmail.com      Ariel   \n",
       "2          26915036_fede.barabas@gmail.com      Fede   \n",
       "6       619906008_marianobarella@gmail.com   Mariano   \n",
       "1  83230506_esonoparecefuncionar@gmail.com       Mer   \n",
       "3       415250188_nahuel.freitas@gmail.com   freitas   \n",
       "9            1277024606_gelpi640@gmail.com      Juli   \n",
       "5    5206321186_ghisolfi_alina@hotmail.com     Alina   \n",
       "7          630434327_andresarmua@gmail.com    Andres   \n",
       "8              153626114_ionatan@gmail.com   Ionatan   \n",
       "\n",
       "                                               preds  puntos  \n",
       "0  [{\"S\":\"0\"},{\"S\":\"2\"},{\"S\":\"1\"},{\"S\":\"3\"},{\"S\":...      39  \n",
       "4  [{\"S\":\"0\"},{\"S\":\"1\"},{\"S\":\"0\"},{\"S\":\"2\"},{\"S\":...      39  \n",
       "2  [{\"S\":\"0\"},{\"S\":\"2\"},{\"S\":\"1\"},{\"S\":\"1\"},{\"S\":...      33  \n",
       "6  [{\"S\":\"1\"},{\"S\":\"2\"},{\"S\":\"1\"},{\"S\":\"1\"},{\"S\":...      33  \n",
       "1  [{\"S\":\"1\"},{\"S\":\"2\"},{\"S\":\"1\"},{\"S\":\"2\"},{\"S\":...      30  \n",
       "3  [{\"S\":\"1\"},{\"S\":\"1\"},{\"S\":\"0\"},{\"S\":\"2\"},{\"S\":...      30  \n",
       "9  [{\"S\":\"1\"},{\"S\":\"1\"},{\"S\":\"0\"},{\"S\":\"3\"},{\"S\":...      29  \n",
       "5  [{\"S\":\"1\"},{\"S\":\"0\"},{\"S\":\"1\"},{\"S\":\"2\"},{\"S\":...      27  \n",
       "7  [{\"S\":\"1\"},{\"S\":\"2\"},{\"S\":\"0\"},{\"S\":\"3\"},{\"S\":...      27  \n",
       "8  [{\"S\":\"1\"},{\"S\":\"1\"},{\"S\":\"1\"},{\"S\":\"2\"},{\"S\":...      24  "
      ]
     },
     "execution_count": 78,
     "metadata": {},
     "output_type": "execute_result"
    }
   ],
   "source": [
    "df.sort_values('puntos',ascending=False)"
   ]
  },
  {
   "cell_type": "code",
   "execution_count": 79,
   "metadata": {},
   "outputs": [],
   "source": [
    "df2=df.sort_values('puntos',ascending=False)"
   ]
  },
  {
   "cell_type": "code",
   "execution_count": 84,
   "metadata": {},
   "outputs": [],
   "source": [
    "df3=df2.drop(['id','preds'], axis=1)"
   ]
  },
  {
   "cell_type": "code",
   "execution_count": null,
   "metadata": {},
   "outputs": [],
   "source": [
    "def get_tabla(df):\n",
    "    puntos=df.preds.apply(lambda x: tablapuntos(x))\n",
    "    df['puntos']=puntos\n",
    "    df2=df.sort_values('puntos',ascending=False)\n",
    "    return df2.drop(['id','preds'], axis=1)"
   ]
  },
  {
   "cell_type": "code",
   "execution_count": 98,
   "metadata": {},
   "outputs": [
    {
     "data": {
      "text/html": [
       "<div>\n",
       "<style scoped>\n",
       "    .dataframe tbody tr th:only-of-type {\n",
       "        vertical-align: middle;\n",
       "    }\n",
       "\n",
       "    .dataframe tbody tr th {\n",
       "        vertical-align: top;\n",
       "    }\n",
       "\n",
       "    .dataframe thead th {\n",
       "        text-align: right;\n",
       "    }\n",
       "</style>\n",
       "<table border=\"1\" class=\"dataframe\">\n",
       "  <thead>\n",
       "    <tr style=\"text-align: right;\">\n",
       "      <th></th>\n",
       "      <th>name</th>\n",
       "      <th>puntos</th>\n",
       "    </tr>\n",
       "  </thead>\n",
       "  <tbody>\n",
       "    <tr>\n",
       "      <th>0</th>\n",
       "      <td>Leonardo</td>\n",
       "      <td>39</td>\n",
       "    </tr>\n",
       "    <tr>\n",
       "      <th>4</th>\n",
       "      <td>Ariel</td>\n",
       "      <td>39</td>\n",
       "    </tr>\n",
       "    <tr>\n",
       "      <th>2</th>\n",
       "      <td>Fede</td>\n",
       "      <td>33</td>\n",
       "    </tr>\n",
       "    <tr>\n",
       "      <th>6</th>\n",
       "      <td>Mariano</td>\n",
       "      <td>33</td>\n",
       "    </tr>\n",
       "    <tr>\n",
       "      <th>1</th>\n",
       "      <td>Mer</td>\n",
       "      <td>30</td>\n",
       "    </tr>\n",
       "    <tr>\n",
       "      <th>3</th>\n",
       "      <td>freitas</td>\n",
       "      <td>30</td>\n",
       "    </tr>\n",
       "    <tr>\n",
       "      <th>9</th>\n",
       "      <td>Juli</td>\n",
       "      <td>29</td>\n",
       "    </tr>\n",
       "    <tr>\n",
       "      <th>5</th>\n",
       "      <td>Alina</td>\n",
       "      <td>27</td>\n",
       "    </tr>\n",
       "    <tr>\n",
       "      <th>7</th>\n",
       "      <td>Andres</td>\n",
       "      <td>27</td>\n",
       "    </tr>\n",
       "    <tr>\n",
       "      <th>8</th>\n",
       "      <td>Ionatan</td>\n",
       "      <td>24</td>\n",
       "    </tr>\n",
       "  </tbody>\n",
       "</table>\n",
       "</div>"
      ],
      "text/plain": [
       "       name  puntos\n",
       "0  Leonardo      39\n",
       "4     Ariel      39\n",
       "2      Fede      33\n",
       "6   Mariano      33\n",
       "1       Mer      30\n",
       "3   freitas      30\n",
       "9      Juli      29\n",
       "5     Alina      27\n",
       "7    Andres      27\n",
       "8   Ionatan      24"
      ]
     },
     "execution_count": 98,
     "metadata": {},
     "output_type": "execute_result"
    }
   ],
   "source": [
    "df3"
   ]
  },
  {
   "cell_type": "code",
   "execution_count": 99,
   "metadata": {},
   "outputs": [
    {
     "name": "stdout",
     "output_type": "stream",
     "text": [
      "Leonardo 39\n",
      "Ariel 39\n",
      "Fede 33\n",
      "Mariano 33\n",
      "Mer 30\n",
      "freitas 30\n",
      "Juli 29\n",
      "Alina 27\n",
      "Andres 27\n",
      "Ionatan 24\n"
     ]
    }
   ],
   "source": [
    "for i,x in df3.iterrows():\n",
    "    print(x['name'],x['puntos'])"
   ]
  },
  {
   "cell_type": "code",
   "execution_count": 85,
   "metadata": {},
   "outputs": [
    {
     "data": {
      "text/plain": [
       "'{\"name\":{\"0\":\"Leonardo\",\"4\":\"Ariel\",\"2\":\"Fede\",\"6\":\"Mariano\",\"1\":\"Mer\",\"3\":\"freitas\",\"9\":\"Juli\",\"5\":\"Alina\",\"7\":\"Andres\",\"8\":\"Ionatan\"},\"puntos\":{\"0\":39,\"4\":39,\"2\":33,\"6\":33,\"1\":30,\"3\":30,\"9\":29,\"5\":27,\"7\":27,\"8\":24}}'"
      ]
     },
     "execution_count": 85,
     "metadata": {},
     "output_type": "execute_result"
    }
   ],
   "source": [
    "df3.to_json()"
   ]
  },
  {
   "cell_type": "markdown",
   "metadata": {},
   "source": [
    "# Partidos Hoy"
   ]
  },
  {
   "cell_type": "code",
   "execution_count": null,
   "metadata": {},
   "outputs": [],
   "source": []
  },
  {
   "cell_type": "code",
   "execution_count": 47,
   "metadata": {},
   "outputs": [],
   "source": [
    "import requests\n",
    "from datetime import datetime\n",
    "from zoneinfo import ZoneInfo\n",
    "\n",
    "headers = {\n",
    "    'authority': 'x14blnzsqf.execute-api.us-east-2.amazonaws.com',\n",
    "    'accept': 'application/json, text/plain, */*',\n",
    "    'accept-language': 'en-US,en;q=0.9,es;q=0.8',\n",
    "    'dnt': '1',\n",
    "    'origin': 'https://www.lanacion.com.ar',\n",
    "    'referer': 'https://www.lanacion.com.ar/',\n",
    "    'sec-ch-ua': '\"Google Chrome\";v=\"107\", \"Chromium\";v=\"107\", \"Not=A?Brand\";v=\"24\"',\n",
    "    'sec-ch-ua-mobile': '?1',\n",
    "    'sec-ch-ua-platform': '\"Android\"',\n",
    "    'sec-fetch-dest': 'empty',\n",
    "    'sec-fetch-mode': 'cors',\n",
    "    'sec-fetch-site': 'cross-site',\n",
    "    'user-agent': 'Mozilla/5.0 (Linux; Android 6.0; Nexus 5 Build/MRA58N) AppleWebKit/537.36 (KHTML, like Gecko) Chrome/107.0.0.0 Mobile Safari/537.36',\n",
    "    'x-token': '36FE17A0-2E7B-456F-9855-124601188D55',\n",
    "    'x-value': 'f794a873-33e0-40d1-99d0-c06331a6d507',\n",
    "}\n",
    "\n",
    "response = requests.get('https://x14blnzsqf.execute-api.us-east-2.amazonaws.com/prod/fixture', headers=headers)\n",
    "fix=response.json()\n",
    "\n",
    "def partidosHoy(fix):\n",
    "    hoy=[]\n",
    "    for x in fix:\n",
    "        dia=datetime.strptime(x['datetime'], '%Y-%m-%dT%H:%M:%S%z').date()\n",
    "        if  dia == datetime.today().date():\n",
    "            hoy.append(x)    \n",
    "    return hoy\n",
    "\n",
    "def printHoy():\n",
    "    msg=[]\n",
    "    hoy=partidosHoy(fix)\n",
    "    for x in hoy:\n",
    "        hora=datetime.strptime(x['datetime'], '%Y-%m-%dT%H:%M:%S%z').astimezone(ZoneInfo('America/Buenos_Aires')).hour\n",
    "        msg.append(' '.join([x['team_1'],str(x['goal_1_opta']),' vs. ',x['team_2'],str(x['goal_2_opta']),'-',str(hora),'Hs.']))\n",
    "\n",
    "    return msg"
   ]
  },
  {
   "cell_type": "code",
   "execution_count": 48,
   "metadata": {},
   "outputs": [],
   "source": [
    "msg=printHoy()"
   ]
  },
  {
   "cell_type": "code",
   "execution_count": 49,
   "metadata": {},
   "outputs": [
    {
     "name": "stdout",
     "output_type": "stream",
     "text": [
      "['Gales 0  vs.  Irán 2 - 7 Hs.', 'Qatar None  vs.  Senegal None - 10 Hs.', 'Holanda None  vs.  Ecuador None - 13 Hs.', 'Inglaterra None  vs.  EE.UU. None - 16 Hs.']\n"
     ]
    }
   ],
   "source": [
    "print(msg)"
   ]
  },
  {
   "cell_type": "code",
   "execution_count": 50,
   "metadata": {},
   "outputs": [],
   "source": [
    "r_url='https://cfrlqnbabuwcvij3npnelltley0wilsp.lambda-url.us-east-1.on.aws'\n",
    "response=requests.request(\"GET\", r_url)"
   ]
  },
  {
   "cell_type": "code",
   "execution_count": 51,
   "metadata": {},
   "outputs": [
    {
     "data": {
      "text/plain": [
       "['Gales 0  vs.  Irán 2 - 7 Hs.',\n",
       " 'Qatar None  vs.  Senegal None - 10 Hs.',\n",
       " 'Holanda None  vs.  Ecuador None - 13 Hs.',\n",
       " 'Inglaterra None  vs.  EE.UU. None - 16 Hs.']"
      ]
     },
     "execution_count": 51,
     "metadata": {},
     "output_type": "execute_result"
    }
   ],
   "source": [
    "response.json()"
   ]
  },
  {
   "cell_type": "markdown",
   "metadata": {},
   "source": [
    "# tabla"
   ]
  },
  {
   "cell_type": "code",
   "execution_count": 52,
   "metadata": {},
   "outputs": [],
   "source": [
    "tb='https://e2jaochskab4mlg3v5sb6uimuy0pnhov.lambda-url.us-east-1.on.aws/'"
   ]
  },
  {
   "cell_type": "code",
   "execution_count": 53,
   "metadata": {},
   "outputs": [],
   "source": [
    "response=requests.request(\"GET\", tb)"
   ]
  },
  {
   "cell_type": "code",
   "execution_count": 56,
   "metadata": {},
   "outputs": [
    {
     "data": {
      "text/plain": [
       "'[{\"puntos\": 24, \"name\": \"Ionatan\"}, {\"puntos\": 33, \"name\": \"Fede\"}, {\"puntos\": 27, \"name\": \"Alina\"}, {\"puntos\": 39, \"name\": \"Leonardo\"}, {\"puntos\": 27, \"name\": \"Andres\"}, {\"puntos\": 39, \"name\": \"Ariel\"}, {\"puntos\": 30, \"name\": \"Mer\"}, {\"puntos\": 30, \"name\": \"freitas\"}, {\"puntos\": 29, \"name\": \"Juli\"}, {\"puntos\": 33, \"name\": \"Mariano\"}]'"
      ]
     },
     "execution_count": 56,
     "metadata": {},
     "output_type": "execute_result"
    }
   ],
   "source": [
    "response.text"
   ]
  },
  {
   "cell_type": "code",
   "execution_count": 57,
   "metadata": {},
   "outputs": [],
   "source": [
    "import json\n",
    "\n",
    "\n",
    "tabla_string = response.text\n",
    "tabla = json.loads(tabla_string)\n",
    "\n",
    "tabla = sorted(tabla, key=lambda x: x[\"puntos\"], reverse=True)\n",
    "\n",
    "tabla_string_ordered = str(tabla)"
   ]
  },
  {
   "cell_type": "code",
   "execution_count": 58,
   "metadata": {},
   "outputs": [
    {
     "data": {
      "text/plain": [
       "\"[{'puntos': 39, 'name': 'Leonardo'}, {'puntos': 39, 'name': 'Ariel'}, {'puntos': 33, 'name': 'Fede'}, {'puntos': 33, 'name': 'Mariano'}, {'puntos': 30, 'name': 'Mer'}, {'puntos': 30, 'name': 'freitas'}, {'puntos': 29, 'name': 'Juli'}, {'puntos': 27, 'name': 'Alina'}, {'puntos': 27, 'name': 'Andres'}, {'puntos': 24, 'name': 'Ionatan'}]\""
      ]
     },
     "execution_count": 58,
     "metadata": {},
     "output_type": "execute_result"
    }
   ],
   "source": [
    "tabla_string_ordered"
   ]
  },
  {
   "cell_type": "code",
   "execution_count": 59,
   "metadata": {},
   "outputs": [
    {
     "data": {
      "text/plain": [
       "'\"[{\\'puntos\\': 39, \\'name\\': \\'Leonardo\\'}, {\\'puntos\\': 39, \\'name\\': \\'Ariel\\'}, {\\'puntos\\': 33, \\'name\\': \\'Fede\\'}, {\\'puntos\\': 33, \\'name\\': \\'Mariano\\'}, {\\'puntos\\': 30, \\'name\\': \\'Mer\\'}, {\\'puntos\\': 30, \\'name\\': \\'freitas\\'}, {\\'puntos\\': 29, \\'name\\': \\'Juli\\'}, {\\'puntos\\': 27, \\'name\\': \\'Alina\\'}, {\\'puntos\\': 27, \\'name\\': \\'Andres\\'}, {\\'puntos\\': 24, \\'name\\': \\'Ionatan\\'}]\"'"
      ]
     },
     "execution_count": 59,
     "metadata": {},
     "output_type": "execute_result"
    }
   ],
   "source": [
    "json.dumps(tabla_string_ordered)"
   ]
  },
  {
   "cell_type": "code",
   "execution_count": 61,
   "metadata": {},
   "outputs": [
    {
     "ename": "JSONDecodeError",
     "evalue": "Expecting property name enclosed in double quotes: line 1 column 3 (char 2)",
     "output_type": "error",
     "traceback": [
      "\u001b[0;31m---------------------------------------------------------------------------\u001b[0m",
      "\u001b[0;31mJSONDecodeError\u001b[0m                           Traceback (most recent call last)",
      "File \u001b[0;32m~/Library/Python/3.9/lib/python/site-packages/requests/models.py:971\u001b[0m, in \u001b[0;36mResponse.json\u001b[0;34m(self, **kwargs)\u001b[0m\n\u001b[1;32m    970\u001b[0m \u001b[38;5;28;01mtry\u001b[39;00m:\n\u001b[0;32m--> 971\u001b[0m     \u001b[38;5;28;01mreturn\u001b[39;00m \u001b[43mcomplexjson\u001b[49m\u001b[38;5;241;43m.\u001b[39;49m\u001b[43mloads\u001b[49m\u001b[43m(\u001b[49m\u001b[38;5;28;43mself\u001b[39;49m\u001b[38;5;241;43m.\u001b[39;49m\u001b[43mtext\u001b[49m\u001b[43m,\u001b[49m\u001b[43m \u001b[49m\u001b[38;5;241;43m*\u001b[39;49m\u001b[38;5;241;43m*\u001b[39;49m\u001b[43mkwargs\u001b[49m\u001b[43m)\u001b[49m\n\u001b[1;32m    972\u001b[0m \u001b[38;5;28;01mexcept\u001b[39;00m JSONDecodeError \u001b[38;5;28;01mas\u001b[39;00m e:\n\u001b[1;32m    973\u001b[0m     \u001b[38;5;66;03m# Catch JSON-related errors and raise as requests.JSONDecodeError\u001b[39;00m\n\u001b[1;32m    974\u001b[0m     \u001b[38;5;66;03m# This aliases json.JSONDecodeError and simplejson.JSONDecodeError\u001b[39;00m\n",
      "File \u001b[0;32m/Library/Developer/CommandLineTools/Library/Frameworks/Python3.framework/Versions/3.9/lib/python3.9/json/__init__.py:346\u001b[0m, in \u001b[0;36mloads\u001b[0;34m(s, cls, object_hook, parse_float, parse_int, parse_constant, object_pairs_hook, **kw)\u001b[0m\n\u001b[1;32m    343\u001b[0m \u001b[38;5;28;01mif\u001b[39;00m (\u001b[38;5;28mcls\u001b[39m \u001b[38;5;129;01mis\u001b[39;00m \u001b[38;5;28;01mNone\u001b[39;00m \u001b[38;5;129;01mand\u001b[39;00m object_hook \u001b[38;5;129;01mis\u001b[39;00m \u001b[38;5;28;01mNone\u001b[39;00m \u001b[38;5;129;01mand\u001b[39;00m\n\u001b[1;32m    344\u001b[0m         parse_int \u001b[38;5;129;01mis\u001b[39;00m \u001b[38;5;28;01mNone\u001b[39;00m \u001b[38;5;129;01mand\u001b[39;00m parse_float \u001b[38;5;129;01mis\u001b[39;00m \u001b[38;5;28;01mNone\u001b[39;00m \u001b[38;5;129;01mand\u001b[39;00m\n\u001b[1;32m    345\u001b[0m         parse_constant \u001b[38;5;129;01mis\u001b[39;00m \u001b[38;5;28;01mNone\u001b[39;00m \u001b[38;5;129;01mand\u001b[39;00m object_pairs_hook \u001b[38;5;129;01mis\u001b[39;00m \u001b[38;5;28;01mNone\u001b[39;00m \u001b[38;5;129;01mand\u001b[39;00m \u001b[38;5;129;01mnot\u001b[39;00m kw):\n\u001b[0;32m--> 346\u001b[0m     \u001b[38;5;28;01mreturn\u001b[39;00m \u001b[43m_default_decoder\u001b[49m\u001b[38;5;241;43m.\u001b[39;49m\u001b[43mdecode\u001b[49m\u001b[43m(\u001b[49m\u001b[43ms\u001b[49m\u001b[43m)\u001b[49m\n\u001b[1;32m    347\u001b[0m \u001b[38;5;28;01mif\u001b[39;00m \u001b[38;5;28mcls\u001b[39m \u001b[38;5;129;01mis\u001b[39;00m \u001b[38;5;28;01mNone\u001b[39;00m:\n",
      "File \u001b[0;32m/Library/Developer/CommandLineTools/Library/Frameworks/Python3.framework/Versions/3.9/lib/python3.9/json/decoder.py:337\u001b[0m, in \u001b[0;36mJSONDecoder.decode\u001b[0;34m(self, s, _w)\u001b[0m\n\u001b[1;32m    333\u001b[0m \u001b[38;5;124;03m\"\"\"Return the Python representation of ``s`` (a ``str`` instance\u001b[39;00m\n\u001b[1;32m    334\u001b[0m \u001b[38;5;124;03mcontaining a JSON document).\u001b[39;00m\n\u001b[1;32m    335\u001b[0m \n\u001b[1;32m    336\u001b[0m \u001b[38;5;124;03m\"\"\"\u001b[39;00m\n\u001b[0;32m--> 337\u001b[0m obj, end \u001b[38;5;241m=\u001b[39m \u001b[38;5;28;43mself\u001b[39;49m\u001b[38;5;241;43m.\u001b[39;49m\u001b[43mraw_decode\u001b[49m\u001b[43m(\u001b[49m\u001b[43ms\u001b[49m\u001b[43m,\u001b[49m\u001b[43m \u001b[49m\u001b[43midx\u001b[49m\u001b[38;5;241;43m=\u001b[39;49m\u001b[43m_w\u001b[49m\u001b[43m(\u001b[49m\u001b[43ms\u001b[49m\u001b[43m,\u001b[49m\u001b[43m \u001b[49m\u001b[38;5;241;43m0\u001b[39;49m\u001b[43m)\u001b[49m\u001b[38;5;241;43m.\u001b[39;49m\u001b[43mend\u001b[49m\u001b[43m(\u001b[49m\u001b[43m)\u001b[49m\u001b[43m)\u001b[49m\n\u001b[1;32m    338\u001b[0m end \u001b[38;5;241m=\u001b[39m _w(s, end)\u001b[38;5;241m.\u001b[39mend()\n",
      "File \u001b[0;32m/Library/Developer/CommandLineTools/Library/Frameworks/Python3.framework/Versions/3.9/lib/python3.9/json/decoder.py:353\u001b[0m, in \u001b[0;36mJSONDecoder.raw_decode\u001b[0;34m(self, s, idx)\u001b[0m\n\u001b[1;32m    352\u001b[0m \u001b[38;5;28;01mtry\u001b[39;00m:\n\u001b[0;32m--> 353\u001b[0m     obj, end \u001b[38;5;241m=\u001b[39m \u001b[38;5;28;43mself\u001b[39;49m\u001b[38;5;241;43m.\u001b[39;49m\u001b[43mscan_once\u001b[49m\u001b[43m(\u001b[49m\u001b[43ms\u001b[49m\u001b[43m,\u001b[49m\u001b[43m \u001b[49m\u001b[43midx\u001b[49m\u001b[43m)\u001b[49m\n\u001b[1;32m    354\u001b[0m \u001b[38;5;28;01mexcept\u001b[39;00m \u001b[38;5;167;01mStopIteration\u001b[39;00m \u001b[38;5;28;01mas\u001b[39;00m err:\n",
      "\u001b[0;31mJSONDecodeError\u001b[0m: Expecting property name enclosed in double quotes: line 1 column 3 (char 2)",
      "\nDuring handling of the above exception, another exception occurred:\n",
      "\u001b[0;31mJSONDecodeError\u001b[0m                           Traceback (most recent call last)",
      "Cell \u001b[0;32mIn [61], line 3\u001b[0m\n\u001b[1;32m      1\u001b[0m tabla_url \u001b[38;5;241m=\u001b[39m \u001b[38;5;124m\"\u001b[39m\u001b[38;5;124mhttps://e2jaochskab4mlg3v5sb6uimuy0pnhov.lambda-url.us-east-1.on.aws/\u001b[39m\u001b[38;5;124m\"\u001b[39m\n\u001b[1;32m      2\u001b[0m response \u001b[38;5;241m=\u001b[39m requests\u001b[38;5;241m.\u001b[39mrequest(\u001b[38;5;124m\"\u001b[39m\u001b[38;5;124mGET\u001b[39m\u001b[38;5;124m\"\u001b[39m, tabla_url)\n\u001b[0;32m----> 3\u001b[0m list_ids\u001b[38;5;241m=\u001b[39mresponse\u001b[38;5;241m.\u001b[39mjson()\n",
      "File \u001b[0;32m~/Library/Python/3.9/lib/python/site-packages/requests/models.py:975\u001b[0m, in \u001b[0;36mResponse.json\u001b[0;34m(self, **kwargs)\u001b[0m\n\u001b[1;32m    971\u001b[0m     \u001b[38;5;28;01mreturn\u001b[39;00m complexjson\u001b[38;5;241m.\u001b[39mloads(\u001b[38;5;28mself\u001b[39m\u001b[38;5;241m.\u001b[39mtext, \u001b[38;5;241m*\u001b[39m\u001b[38;5;241m*\u001b[39mkwargs)\n\u001b[1;32m    972\u001b[0m \u001b[38;5;28;01mexcept\u001b[39;00m JSONDecodeError \u001b[38;5;28;01mas\u001b[39;00m e:\n\u001b[1;32m    973\u001b[0m     \u001b[38;5;66;03m# Catch JSON-related errors and raise as requests.JSONDecodeError\u001b[39;00m\n\u001b[1;32m    974\u001b[0m     \u001b[38;5;66;03m# This aliases json.JSONDecodeError and simplejson.JSONDecodeError\u001b[39;00m\n\u001b[0;32m--> 975\u001b[0m     \u001b[38;5;28;01mraise\u001b[39;00m RequestsJSONDecodeError(e\u001b[38;5;241m.\u001b[39mmsg, e\u001b[38;5;241m.\u001b[39mdoc, e\u001b[38;5;241m.\u001b[39mpos)\n",
      "\u001b[0;31mJSONDecodeError\u001b[0m: Expecting property name enclosed in double quotes: line 1 column 3 (char 2)"
     ]
    }
   ],
   "source": [
    "tabla_url = \"https://e2jaochskab4mlg3v5sb6uimuy0pnhov.lambda-url.us-east-1.on.aws/\"\n",
    "response = requests.request(\"GET\", tabla_url)\n",
    "list_ids=response.json()\n"
   ]
  },
  {
   "cell_type": "code",
   "execution_count": 65,
   "metadata": {},
   "outputs": [
    {
     "data": {
      "text/plain": [
       "[{'puntos': 39, 'name': 'Leonardo'},\n",
       " {'puntos': 39, 'name': 'Ariel'},\n",
       " {'puntos': 33, 'name': 'Fede'},\n",
       " {'puntos': 33, 'name': 'Mariano'},\n",
       " {'puntos': 30, 'name': 'Mer'},\n",
       " {'puntos': 30, 'name': 'freitas'},\n",
       " {'puntos': 29, 'name': 'Juli'},\n",
       " {'puntos': 27, 'name': 'Alina'},\n",
       " {'puntos': 27, 'name': 'Andres'},\n",
       " {'puntos': 24, 'name': 'Ionatan'}]"
      ]
     },
     "execution_count": 65,
     "metadata": {},
     "output_type": "execute_result"
    }
   ],
   "source": [
    "json.loads(response.text.replace(\"\\'\", \"\\\"\"))"
   ]
  }
 ],
 "metadata": {
  "kernelspec": {
   "display_name": "Python 3 (ipykernel)",
   "language": "python",
   "name": "python3"
  },
  "language_info": {
   "codemirror_mode": {
    "name": "ipython",
    "version": 3
   },
   "file_extension": ".py",
   "mimetype": "text/x-python",
   "name": "python",
   "nbconvert_exporter": "python",
   "pygments_lexer": "ipython3",
   "version": "3.9.6"
  },
  "vscode": {
   "interpreter": {
    "hash": "31f2aee4e71d21fbe5cf8b01ff0e069b9275f58929596ceb00d14d90e3e16cd6"
   }
  }
 },
 "nbformat": 4,
 "nbformat_minor": 2
}
