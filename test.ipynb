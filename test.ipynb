{
 "cells": [
  {
   "cell_type": "code",
   "execution_count": 89,
   "metadata": {},
   "outputs": [],
   "source": [
    "import requests\n",
    "\n",
    "tabla_url = \"https://e2jaochskab4mlg3v5sb6uimuy0pnhov.lambda-url.us-east-1.on.aws/\"\n",
    "response = requests.request(\"GET\", tabla_url)\n",
    "list_ids=response.json()\n",
    "ids=['<strong> Tabla de Posiciones:</strong>','']\n",
    "for i,x in enumerate(list_ids):\n",
    "    a=x['name']\n",
    "    ids.append(str(i+1) + '{0: <35}'.format(a) + str(0))\n"
   ]
  },
  {
   "cell_type": "code",
   "execution_count": 92,
   "metadata": {},
   "outputs": [],
   "source": [
    "ids=[' Tabla de Posiciones:','']\n",
    "for i,x in enumerate(list_ids):\n",
    "    a=x['name']\n",
    "    ids.append(str(i+1) +' '+ a +(25-len(a))*' '+ str(0))"
   ]
  },
  {
   "cell_type": "code",
   "execution_count": 93,
   "metadata": {},
   "outputs": [
    {
     "data": {
      "text/plain": [
       "' Tabla de Posiciones:\\n\\n1 fer                      0'"
      ]
     },
     "execution_count": 93,
     "metadata": {},
     "output_type": "execute_result"
    }
   ],
   "source": [
    "'\\n'.join(ids)"
   ]
  },
  {
   "cell_type": "code",
   "execution_count": 87,
   "metadata": {},
   "outputs": [],
   "source": [
    "\n",
    "url = \"https://api.telegram.org/bot5597623661:AAFyWZD91HiPIeaKmF89iIsxAp9lgmfF5Ig/sendMessage\"\n",
    "\n",
    "payload={'text': '```'+'\\n'.join(ids)+'```',\n",
    "'chat_id': '224798982',\n",
    "'parse_mode': 'MarkdownV2'}\n",
    "\n",
    "response = requests.request(\"POST\", url,data=payload)\n",
    "\n"
   ]
  },
  {
   "cell_type": "code",
   "execution_count": 64,
   "metadata": {},
   "outputs": [
    {
     "data": {
      "text/plain": [
       "28"
      ]
     },
     "execution_count": 64,
     "metadata": {},
     "output_type": "execute_result"
    }
   ],
   "source": [
    "len('2 andres.armua@ed.ac.uk____0')"
   ]
  },
  {
   "cell_type": "code",
   "execution_count": 81,
   "metadata": {},
   "outputs": [
    {
     "data": {
      "text/plain": [
       "<Response [200]>"
      ]
     },
     "execution_count": 81,
     "metadata": {},
     "output_type": "execute_result"
    }
   ],
   "source": [
    "response"
   ]
  }
 ],
 "metadata": {
  "kernelspec": {
   "display_name": "Python 3.9.6 64-bit",
   "language": "python",
   "name": "python3"
  },
  "language_info": {
   "codemirror_mode": {
    "name": "ipython",
    "version": 3
   },
   "file_extension": ".py",
   "mimetype": "text/x-python",
   "name": "python",
   "nbconvert_exporter": "python",
   "pygments_lexer": "ipython3",
   "version": "3.9.6"
  },
  "orig_nbformat": 4,
  "vscode": {
   "interpreter": {
    "hash": "31f2aee4e71d21fbe5cf8b01ff0e069b9275f58929596ceb00d14d90e3e16cd6"
   }
  }
 },
 "nbformat": 4,
 "nbformat_minor": 2
}
