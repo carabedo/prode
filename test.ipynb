{
 "cells": [
  {
   "cell_type": "code",
   "execution_count": 89,
   "metadata": {},
   "outputs": [],
   "source": [
    "import requests\n",
    "\n",
    "tabla_url = \"https://e2jaochskab4mlg3v5sb6uimuy0pnhov.lambda-url.us-east-1.on.aws/\"\n",
    "response = requests.request(\"GET\", tabla_url)\n",
    "list_ids=response.json()\n",
    "ids=['<strong> Tabla de Posiciones:</strong>','']\n",
    "for i,x in enumerate(list_ids):\n",
    "    a=x['name']\n",
    "    ids.append(str(i+1) + '{0: <35}'.format(a) + str(0))\n"
   ]
  },
  {
   "cell_type": "code",
   "execution_count": 92,
   "metadata": {},
   "outputs": [],
   "source": [
    "ids=[' Tabla de Posiciones:','']\n",
    "for i,x in enumerate(list_ids):\n",
    "    a=x['name']\n",
    "    ids.append(str(i+1) +' '+ a +(25-len(a))*' '+ str(0))"
   ]
  },
  {
   "cell_type": "code",
   "execution_count": 93,
   "metadata": {},
   "outputs": [
    {
     "data": {
      "text/plain": [
       "' Tabla de Posiciones:\\n\\n1 fer                      0'"
      ]
     },
     "execution_count": 93,
     "metadata": {},
     "output_type": "execute_result"
    }
   ],
   "source": [
    "'\\n'.join(ids)"
   ]
  },
  {
   "cell_type": "code",
   "execution_count": 87,
   "metadata": {},
   "outputs": [],
   "source": [
    "\n",
    "url = \"https://api.telegram.org/bot5597623661:AAFyWZD91HiPIeaKmF89iIsxAp9lgmfF5Ig/sendMessage\"\n",
    "\n",
    "payload={'text': '```'+'\\n'.join(ids)+'```',\n",
    "'chat_id': '224798982',\n",
    "'parse_mode': 'MarkdownV2'}\n",
    "\n",
    "response = requests.request(\"POST\", url,data=payload)\n",
    "\n"
   ]
  },
  {
   "cell_type": "code",
   "execution_count": 64,
   "metadata": {},
   "outputs": [
    {
     "data": {
      "text/plain": [
       "28"
      ]
     },
     "execution_count": 64,
     "metadata": {},
     "output_type": "execute_result"
    }
   ],
   "source": [
    "len('2 andres.armua@ed.ac.uk____0')"
   ]
  },
  {
   "cell_type": "code",
   "execution_count": 81,
   "metadata": {},
   "outputs": [
    {
     "data": {
      "text/plain": [
       "<Response [200]>"
      ]
     },
     "execution_count": 81,
     "metadata": {},
     "output_type": "execute_result"
    }
   ],
   "source": [
    "response"
   ]
  },
  {
   "cell_type": "code",
   "execution_count": 1,
   "metadata": {},
   "outputs": [],
   "source": [
    "import requests"
   ]
  },
  {
   "cell_type": "code",
   "execution_count": 5,
   "metadata": {},
   "outputs": [],
   "source": [
    "url='https://x14blnzsqf.execute-api.us-east-2.amazonaws.com/prod/fixture'"
   ]
  },
  {
   "cell_type": "code",
   "execution_count": 3,
   "metadata": {},
   "outputs": [],
   "source": [
    "fix=requests.get(url)"
   ]
  },
  {
   "cell_type": "code",
   "execution_count": 4,
   "metadata": {},
   "outputs": [
    {
     "data": {
      "text/plain": [
       "<Response [401]>"
      ]
     },
     "execution_count": 4,
     "metadata": {},
     "output_type": "execute_result"
    }
   ],
   "source": [
    "fix\n"
   ]
  },
  {
   "cell_type": "markdown",
   "metadata": {},
   "source": [
    "## TEST"
   ]
  },
  {
   "cell_type": "code",
   "execution_count": 1,
   "metadata": {},
   "outputs": [],
   "source": [
    "import requests\n",
    "\n",
    "headers = {\n",
    "    'authority': 'x14blnzsqf.execute-api.us-east-2.amazonaws.com',\n",
    "    'accept': 'application/json, text/plain, */*',\n",
    "    'accept-language': 'en-US,en;q=0.9,es;q=0.8',\n",
    "    'dnt': '1',\n",
    "    'origin': 'https://www.lanacion.com.ar',\n",
    "    'referer': 'https://www.lanacion.com.ar/',\n",
    "    'sec-ch-ua': '\"Google Chrome\";v=\"107\", \"Chromium\";v=\"107\", \"Not=A?Brand\";v=\"24\"',\n",
    "    'sec-ch-ua-mobile': '?1',\n",
    "    'sec-ch-ua-platform': '\"Android\"',\n",
    "    'sec-fetch-dest': 'empty',\n",
    "    'sec-fetch-mode': 'cors',\n",
    "    'sec-fetch-site': 'cross-site',\n",
    "    'user-agent': 'Mozilla/5.0 (Linux; Android 6.0; Nexus 5 Build/MRA58N) AppleWebKit/537.36 (KHTML, like Gecko) Chrome/107.0.0.0 Mobile Safari/537.36',\n",
    "    'x-token': '36FE17A0-2E7B-456F-9855-124601188D55',\n",
    "    'x-value': 'f794a873-33e0-40d1-99d0-c06331a6d507',\n",
    "}\n",
    "\n",
    "response = requests.get('https://x14blnzsqf.execute-api.us-east-2.amazonaws.com/prod/fixture', headers=headers)"
   ]
  },
  {
   "cell_type": "code",
   "execution_count": 2,
   "metadata": {},
   "outputs": [
    {
     "data": {
      "text/plain": [
       "<Response [200]>"
      ]
     },
     "execution_count": 2,
     "metadata": {},
     "output_type": "execute_result"
    }
   ],
   "source": [
    "response"
   ]
  },
  {
   "cell_type": "code",
   "execution_count": 3,
   "metadata": {},
   "outputs": [],
   "source": [
    "fix=response.json()"
   ]
  },
  {
   "cell_type": "code",
   "execution_count": 4,
   "metadata": {},
   "outputs": [
    {
     "data": {
      "text/plain": [
       "64"
      ]
     },
     "execution_count": 4,
     "metadata": {},
     "output_type": "execute_result"
    }
   ],
   "source": [
    "len(fix)"
   ]
  },
  {
   "cell_type": "code",
   "execution_count": 5,
   "metadata": {},
   "outputs": [
    {
     "data": {
      "text/plain": [
       "{'match_id': 2277789,\n",
       " 'points': 0,\n",
       " 'team_1': 'Qatar',\n",
       " 'team_1_id': 1873,\n",
       " 'team_2': 'Ecuador',\n",
       " 'team_2_id': 830,\n",
       " 'goal_1': 4,\n",
       " 'goal_2': 4,\n",
       " 'goal_1_opta': 0,\n",
       " 'goal_2_opta': 2,\n",
       " 'penalty_1_opta': None,\n",
       " 'penalty_2_opta': None,\n",
       " 'winner': None,\n",
       " 'group': 'A',\n",
       " 'datetime': '2022-11-20T16:00:00Z',\n",
       " 'locked': True,\n",
       " 'minutes_left_to_start_match': -6841,\n",
       " 'status': 'full_time'}"
      ]
     },
     "execution_count": 5,
     "metadata": {},
     "output_type": "execute_result"
    }
   ],
   "source": [
    "fix[0]"
   ]
  },
  {
   "cell_type": "code",
   "execution_count": 6,
   "metadata": {},
   "outputs": [],
   "source": [
    "def partidosTerminados(fix):\n",
    "    term=[]\n",
    "    for x in fix:\n",
    "        if x['status'] == 'full_time':\n",
    "            term.append(x)\n",
    "    return term\n",
    "\n",
    "def partidosHoy(fix):\n",
    "    hoy=[]\n",
    "    for x in fix:\n",
    "        dia=datetime.strptime(x['datetime'], '%Y-%m-%dT%H:%M:%S%z').date()\n",
    "        if  dia == datetime.today().date():\n",
    "            hoy.append(x)\n",
    "    \n",
    "    return hoy\n"
   ]
  },
  {
   "cell_type": "code",
   "execution_count": 7,
   "metadata": {},
   "outputs": [
    {
     "data": {
      "text/plain": [
       "datetime.date(2022, 11, 25)"
      ]
     },
     "execution_count": 7,
     "metadata": {},
     "output_type": "execute_result"
    }
   ],
   "source": [
    "from datetime import date\n",
    "\n",
    "today = date.today()\n",
    "today"
   ]
  },
  {
   "cell_type": "code",
   "execution_count": 8,
   "metadata": {},
   "outputs": [
    {
     "data": {
      "text/plain": [
       "{'match_id': 2277789,\n",
       " 'points': 0,\n",
       " 'team_1': 'Qatar',\n",
       " 'team_1_id': 1873,\n",
       " 'team_2': 'Ecuador',\n",
       " 'team_2_id': 830,\n",
       " 'goal_1': 4,\n",
       " 'goal_2': 4,\n",
       " 'goal_1_opta': 0,\n",
       " 'goal_2_opta': 2,\n",
       " 'penalty_1_opta': None,\n",
       " 'penalty_2_opta': None,\n",
       " 'winner': None,\n",
       " 'group': 'A',\n",
       " 'datetime': '2022-11-20T16:00:00Z',\n",
       " 'locked': True,\n",
       " 'minutes_left_to_start_match': -6841,\n",
       " 'status': 'full_time'}"
      ]
     },
     "execution_count": 8,
     "metadata": {},
     "output_type": "execute_result"
    }
   ],
   "source": [
    "fix[0]"
   ]
  },
  {
   "cell_type": "code",
   "execution_count": 9,
   "metadata": {},
   "outputs": [
    {
     "data": {
      "text/plain": [
       "'2022-11-20T16:00:00Z'"
      ]
     },
     "execution_count": 9,
     "metadata": {},
     "output_type": "execute_result"
    }
   ],
   "source": [
    "fix[0]['datetime']"
   ]
  },
  {
   "cell_type": "code",
   "execution_count": 10,
   "metadata": {},
   "outputs": [
    {
     "data": {
      "text/plain": [
       "datetime.datetime(2022, 11, 20, 13, 0, tzinfo=zoneinfo.ZoneInfo(key='America/Buenos_Aires'))"
      ]
     },
     "execution_count": 10,
     "metadata": {},
     "output_type": "execute_result"
    }
   ],
   "source": [
    "from datetime import datetime\n",
    "from zoneinfo import ZoneInfo\n",
    "\n",
    "datetime.strptime(fix[0]['datetime'], '%Y-%m-%dT%H:%M:%S%z').astimezone(ZoneInfo('America/Buenos_Aires'))\n"
   ]
  },
  {
   "cell_type": "code",
   "execution_count": 11,
   "metadata": {},
   "outputs": [
    {
     "data": {
      "text/plain": [
       "13"
      ]
     },
     "execution_count": 11,
     "metadata": {},
     "output_type": "execute_result"
    }
   ],
   "source": [
    "datetime.strptime(fix[0]['datetime'], '%Y-%m-%dT%H:%M:%S%z').astimezone(ZoneInfo('America/Buenos_Aires')).hour\n"
   ]
  },
  {
   "cell_type": "code",
   "execution_count": 12,
   "metadata": {},
   "outputs": [
    {
     "data": {
      "text/plain": [
       "False"
      ]
     },
     "execution_count": 12,
     "metadata": {},
     "output_type": "execute_result"
    }
   ],
   "source": [
    "datetime.strptime(fix[0]['datetime'], '%Y-%m-%dT%H:%M:%S%z').date() == datetime.today().date()\n"
   ]
  },
  {
   "cell_type": "code",
   "execution_count": 13,
   "metadata": {
    "scrolled": false
   },
   "outputs": [],
   "source": [
    "finished=partidosTerminados(fix)"
   ]
  },
  {
   "cell_type": "code",
   "execution_count": 14,
   "metadata": {},
   "outputs": [
    {
     "data": {
      "text/plain": [
       "[{'match_id': 2277810,\n",
       "  'points': 0,\n",
       "  'team_1': 'Gales',\n",
       "  'team_1_id': 508,\n",
       "  'team_2': 'Irán',\n",
       "  'team_2_id': 1042,\n",
       "  'goal_1': None,\n",
       "  'goal_2': None,\n",
       "  'goal_1_opta': None,\n",
       "  'goal_2_opta': None,\n",
       "  'penalty_1_opta': None,\n",
       "  'penalty_2_opta': None,\n",
       "  'winner': None,\n",
       "  'group': 'B',\n",
       "  'datetime': '2022-11-25T10:00:00Z',\n",
       "  'locked': True,\n",
       "  'minutes_left_to_start_match': -1,\n",
       "  'status': 'playing'},\n",
       " {'match_id': 2277807,\n",
       "  'points': 0,\n",
       "  'team_1': 'Qatar',\n",
       "  'team_1_id': 1873,\n",
       "  'team_2': 'Senegal',\n",
       "  'team_2_id': 1226,\n",
       "  'goal_1': 1,\n",
       "  'goal_2': 2,\n",
       "  'goal_1_opta': None,\n",
       "  'goal_2_opta': None,\n",
       "  'penalty_1_opta': None,\n",
       "  'penalty_2_opta': None,\n",
       "  'winner': 1226,\n",
       "  'group': 'A',\n",
       "  'datetime': '2022-11-25T13:00:00Z',\n",
       "  'locked': False,\n",
       "  'minutes_left_to_start_match': 178,\n",
       "  'status': 'pre_match'},\n",
       " {'match_id': 2277808,\n",
       "  'points': 0,\n",
       "  'team_1': 'Holanda',\n",
       "  'team_1_id': 366,\n",
       "  'team_2': 'Ecuador',\n",
       "  'team_2_id': 830,\n",
       "  'goal_1': 3,\n",
       "  'goal_2': 4,\n",
       "  'goal_1_opta': None,\n",
       "  'goal_2_opta': None,\n",
       "  'penalty_1_opta': None,\n",
       "  'penalty_2_opta': None,\n",
       "  'winner': 830,\n",
       "  'group': 'A',\n",
       "  'datetime': '2022-11-25T16:00:00Z',\n",
       "  'locked': False,\n",
       "  'minutes_left_to_start_match': 358,\n",
       "  'status': 'pre_match'},\n",
       " {'match_id': 2277809,\n",
       "  'points': 0,\n",
       "  'team_1': 'Inglaterra',\n",
       "  'team_1_id': 114,\n",
       "  'team_2': 'EE.UU.',\n",
       "  'team_2_id': 596,\n",
       "  'goal_1': None,\n",
       "  'goal_2': None,\n",
       "  'goal_1_opta': None,\n",
       "  'goal_2_opta': None,\n",
       "  'penalty_1_opta': None,\n",
       "  'penalty_2_opta': None,\n",
       "  'winner': None,\n",
       "  'group': 'B',\n",
       "  'datetime': '2022-11-25T19:00:00Z',\n",
       "  'locked': False,\n",
       "  'minutes_left_to_start_match': 538,\n",
       "  'status': 'pre_match'}]"
      ]
     },
     "execution_count": 14,
     "metadata": {},
     "output_type": "execute_result"
    }
   ],
   "source": [
    "partidosHoy(fix)"
   ]
  },
  {
   "cell_type": "code",
   "execution_count": 15,
   "metadata": {},
   "outputs": [],
   "source": [
    "import pandas as pd"
   ]
  },
  {
   "cell_type": "code",
   "execution_count": 16,
   "metadata": {},
   "outputs": [],
   "source": [
    "df=pd.read_csv('results.csv')"
   ]
  },
  {
   "cell_type": "code",
   "execution_count": 17,
   "metadata": {},
   "outputs": [
    {
     "data": {
      "text/html": [
       "<div>\n",
       "<style scoped>\n",
       "    .dataframe tbody tr th:only-of-type {\n",
       "        vertical-align: middle;\n",
       "    }\n",
       "\n",
       "    .dataframe tbody tr th {\n",
       "        vertical-align: top;\n",
       "    }\n",
       "\n",
       "    .dataframe thead th {\n",
       "        text-align: right;\n",
       "    }\n",
       "</style>\n",
       "<table border=\"1\" class=\"dataframe\">\n",
       "  <thead>\n",
       "    <tr style=\"text-align: right;\">\n",
       "      <th></th>\n",
       "      <th>id</th>\n",
       "      <th>name</th>\n",
       "      <th>preds</th>\n",
       "    </tr>\n",
       "  </thead>\n",
       "  <tbody>\n",
       "    <tr>\n",
       "      <th>0</th>\n",
       "      <td>12525649_lgtrombetta@gmail.com</td>\n",
       "      <td>Leonardo</td>\n",
       "      <td>[{\"S\":\"0\"},{\"S\":\"2\"},{\"S\":\"1\"},{\"S\":\"3\"},{\"S\":...</td>\n",
       "    </tr>\n",
       "    <tr>\n",
       "      <th>1</th>\n",
       "      <td>83230506_esonoparecefuncionar@gmail.com</td>\n",
       "      <td>Mer</td>\n",
       "      <td>[{\"S\":\"1\"},{\"S\":\"2\"},{\"S\":\"1\"},{\"S\":\"2\"},{\"S\":...</td>\n",
       "    </tr>\n",
       "    <tr>\n",
       "      <th>2</th>\n",
       "      <td>26915036_fede.barabas@gmail.com</td>\n",
       "      <td>Fede</td>\n",
       "      <td>[{\"S\":\"0\"},{\"S\":\"2\"},{\"S\":\"1\"},{\"S\":\"1\"},{\"S\":...</td>\n",
       "    </tr>\n",
       "    <tr>\n",
       "      <th>3</th>\n",
       "      <td>415250188_nahuel.freitas@gmail.com</td>\n",
       "      <td>freitas</td>\n",
       "      <td>[{\"S\":\"1\"},{\"S\":\"1\"},{\"S\":\"0\"},{\"S\":\"2\"},{\"S\":...</td>\n",
       "    </tr>\n",
       "    <tr>\n",
       "      <th>4</th>\n",
       "      <td>1277024606_null</td>\n",
       "      <td>Juli</td>\n",
       "      <td>[{\"S\":\"1\"},{\"S\":\"1\"},{\"S\":\"0\"},{\"S\":\"3\"},{\"S\":...</td>\n",
       "    </tr>\n",
       "    <tr>\n",
       "      <th>5</th>\n",
       "      <td>720065757_ariel.haimovici@gmail.com</td>\n",
       "      <td>Ariel</td>\n",
       "      <td>[{\"S\":\"0\"},{\"S\":\"1\"},{\"S\":\"0\"},{\"S\":\"2\"},{\"S\":...</td>\n",
       "    </tr>\n",
       "    <tr>\n",
       "      <th>6</th>\n",
       "      <td>153626114_null</td>\n",
       "      <td>Ionatan</td>\n",
       "      <td>[{\"S\":\"1\"},{\"S\":\"1\"},{\"S\":\"1\"},{\"S\":\"2\"},{\"S\":...</td>\n",
       "    </tr>\n",
       "    <tr>\n",
       "      <th>7</th>\n",
       "      <td>5206321186_ghisolfi_alina@hotmail.com</td>\n",
       "      <td>Alina</td>\n",
       "      <td>[{\"S\":\"1\"},{\"S\":\"0\"},{\"S\":\"1\"},{\"S\":\"2\"},{\"S\":...</td>\n",
       "    </tr>\n",
       "    <tr>\n",
       "      <th>8</th>\n",
       "      <td>619906008_marianobarella@gmail.com</td>\n",
       "      <td>Mariano</td>\n",
       "      <td>[{\"S\":\"1\"},{\"S\":\"2\"},{\"S\":\"1\"},{\"S\":\"1\"},{\"S\":...</td>\n",
       "    </tr>\n",
       "    <tr>\n",
       "      <th>9</th>\n",
       "      <td>666_ionatanlist@gmail.com</td>\n",
       "      <td>Pruebas</td>\n",
       "      <td>[{\"S\":\"1\"},{\"S\":\"1\"},{\"S\":\"2\"},{\"S\":\"2\"},{\"S\":...</td>\n",
       "    </tr>\n",
       "    <tr>\n",
       "      <th>10</th>\n",
       "      <td>630434327_andresarmua@gmail.com</td>\n",
       "      <td>Andres</td>\n",
       "      <td>[{\"S\":\"1\"},{\"S\":\"2\"},{\"S\":\"0\"},{\"S\":\"3\"},{\"S\":...</td>\n",
       "    </tr>\n",
       "    <tr>\n",
       "      <th>11</th>\n",
       "      <td>224798982_culo@sfsd</td>\n",
       "      <td>fer</td>\n",
       "      <td>[{\"S\":\"0\"},{\"S\":\"0\"},{\"S\":\"0\"},{\"S\":\"0\"},{\"S\":...</td>\n",
       "    </tr>\n",
       "    <tr>\n",
       "      <th>12</th>\n",
       "      <td>153626114_ionatan@gmail.com</td>\n",
       "      <td>Ionatan</td>\n",
       "      <td>[{\"S\":\"1\"},{\"S\":\"1\"},{\"S\":\"1\"},{\"S\":\"2\"},{\"S\":...</td>\n",
       "    </tr>\n",
       "    <tr>\n",
       "      <th>13</th>\n",
       "      <td>1277024606_gelpi640@gmail.com</td>\n",
       "      <td>Juli</td>\n",
       "      <td>[{\"S\":\"1\"},{\"S\":\"1\"},{\"S\":\"0\"},{\"S\":\"3\"},{\"S\":...</td>\n",
       "    </tr>\n",
       "  </tbody>\n",
       "</table>\n",
       "</div>"
      ],
      "text/plain": [
       "                                         id      name  \\\n",
       "0            12525649_lgtrombetta@gmail.com  Leonardo   \n",
       "1   83230506_esonoparecefuncionar@gmail.com       Mer   \n",
       "2           26915036_fede.barabas@gmail.com      Fede   \n",
       "3        415250188_nahuel.freitas@gmail.com   freitas   \n",
       "4                           1277024606_null      Juli   \n",
       "5      720065757_ariel.haimovici@gmail.com      Ariel   \n",
       "6                            153626114_null   Ionatan   \n",
       "7     5206321186_ghisolfi_alina@hotmail.com     Alina   \n",
       "8        619906008_marianobarella@gmail.com   Mariano   \n",
       "9                 666_ionatanlist@gmail.com   Pruebas   \n",
       "10          630434327_andresarmua@gmail.com    Andres   \n",
       "11                      224798982_culo@sfsd       fer   \n",
       "12              153626114_ionatan@gmail.com   Ionatan   \n",
       "13            1277024606_gelpi640@gmail.com      Juli   \n",
       "\n",
       "                                                preds  \n",
       "0   [{\"S\":\"0\"},{\"S\":\"2\"},{\"S\":\"1\"},{\"S\":\"3\"},{\"S\":...  \n",
       "1   [{\"S\":\"1\"},{\"S\":\"2\"},{\"S\":\"1\"},{\"S\":\"2\"},{\"S\":...  \n",
       "2   [{\"S\":\"0\"},{\"S\":\"2\"},{\"S\":\"1\"},{\"S\":\"1\"},{\"S\":...  \n",
       "3   [{\"S\":\"1\"},{\"S\":\"1\"},{\"S\":\"0\"},{\"S\":\"2\"},{\"S\":...  \n",
       "4   [{\"S\":\"1\"},{\"S\":\"1\"},{\"S\":\"0\"},{\"S\":\"3\"},{\"S\":...  \n",
       "5   [{\"S\":\"0\"},{\"S\":\"1\"},{\"S\":\"0\"},{\"S\":\"2\"},{\"S\":...  \n",
       "6   [{\"S\":\"1\"},{\"S\":\"1\"},{\"S\":\"1\"},{\"S\":\"2\"},{\"S\":...  \n",
       "7   [{\"S\":\"1\"},{\"S\":\"0\"},{\"S\":\"1\"},{\"S\":\"2\"},{\"S\":...  \n",
       "8   [{\"S\":\"1\"},{\"S\":\"2\"},{\"S\":\"1\"},{\"S\":\"1\"},{\"S\":...  \n",
       "9   [{\"S\":\"1\"},{\"S\":\"1\"},{\"S\":\"2\"},{\"S\":\"2\"},{\"S\":...  \n",
       "10  [{\"S\":\"1\"},{\"S\":\"2\"},{\"S\":\"0\"},{\"S\":\"3\"},{\"S\":...  \n",
       "11  [{\"S\":\"0\"},{\"S\":\"0\"},{\"S\":\"0\"},{\"S\":\"0\"},{\"S\":...  \n",
       "12  [{\"S\":\"1\"},{\"S\":\"1\"},{\"S\":\"1\"},{\"S\":\"2\"},{\"S\":...  \n",
       "13  [{\"S\":\"1\"},{\"S\":\"1\"},{\"S\":\"0\"},{\"S\":\"3\"},{\"S\":...  "
      ]
     },
     "execution_count": 17,
     "metadata": {},
     "output_type": "execute_result"
    }
   ],
   "source": [
    "df"
   ]
  },
  {
   "cell_type": "code",
   "execution_count": 18,
   "metadata": {},
   "outputs": [
    {
     "data": {
      "text/plain": [
       "'[{\"S\":\"0\"},{\"S\":\"2\"},{\"S\":\"1\"},{\"S\":\"3\"},{\"S\":\"0\"},{\"S\":\"1\"},{\"S\":\"2\"},{\"S\":\"1\"},{\"S\":\"1\"},{\"S\":\"0\"},{\"S\":\"3\"},{\"S\":\"0\"},{\"S\":\"3\"},{\"S\":\"0\"},{\"S\":\"1\"},{\"S\":\"1\"},{\"S\":\"1\"},{\"S\":\"0\"},{\"S\":\"2\"},{\"S\":\"1\"},{\"S\":\"0\"},{\"S\":\"1\"},{\"S\":\"0\"},{\"S\":\"2\"},{\"S\":\"2\"},{\"S\":\"0\"},{\"S\":\"1\"},{\"S\":\"1\"},{\"S\":\"3\"},{\"S\":\"0\"},{\"S\":\"2\"},{\"S\":\"1\"},{\"S\":\"0\"},{\"S\":\"2\"},{\"S\":\"0\"},{\"S\":\"1\"},{\"S\":\"2\"},{\"S\":\"0\"},{\"S\":\"3\"},{\"S\":\"1\"},{\"S\":\"1\"},{\"S\":\"1\"},{\"S\":\"2\"},{\"S\":\"2\"},{\"S\":\"0\"},{\"S\":\"2\"},{\"S\":\"0\"},{\"S\":\"1\"},{\"S\":\"1\"},{\"S\":\"0\"},{\"S\":\"2\"},{\"S\":\"1\"},{\"S\":\"1\"},{\"S\":\"0\"},{\"S\":\"2\"},{\"S\":\"2\"},{\"S\":\"0\"},{\"S\":\"3\"},{\"S\":\"1\"},{\"S\":\"2\"},{\"S\":\"0\"},{\"S\":\"2\"},{\"S\":\"3\"},{\"S\":\"0\"},{\"S\":\"2\"},{\"S\":\"0\"},{\"S\":\"1\"},{\"S\":\"0\"},{\"S\":\"1\"},{\"S\":\"2\"},{\"S\":\"1\"},{\"S\":\"0\"},{\"S\":\"1\"},{\"S\":\"0\"},{\"S\":\"3\"},{\"S\":\"0\"},{\"S\":\"1\"},{\"S\":\"1\"},{\"S\":\"2\"},{\"S\":\"1\"},{\"S\":\"0\"},{\"S\":\"1\"},{\"S\":\"1\"},{\"S\":\"5\"},{\"S\":\"1\"},{\"S\":\"0\"},{\"S\":\"2\"},{\"S\":\"1\"},{\"S\":\"0\"},{\"S\":\"1\"},{\"S\":\"1\"},{\"S\":\"1\"},{\"S\":\"0\"},{\"S\":\"2\"},{\"S\":\"1\"},{\"S\":\"3\"}]'"
      ]
     },
     "execution_count": 18,
     "metadata": {},
     "output_type": "execute_result"
    }
   ],
   "source": [
    "df.iloc[0].preds"
   ]
  },
  {
   "cell_type": "code",
   "execution_count": 19,
   "metadata": {},
   "outputs": [],
   "source": [
    "import json"
   ]
  },
  {
   "cell_type": "code",
   "execution_count": 20,
   "metadata": {},
   "outputs": [],
   "source": [
    "preds=json.loads(df.iloc[0].preds)"
   ]
  },
  {
   "cell_type": "code",
   "execution_count": 21,
   "metadata": {},
   "outputs": [
    {
     "data": {
      "text/plain": [
       "96"
      ]
     },
     "execution_count": 21,
     "metadata": {},
     "output_type": "execute_result"
    }
   ],
   "source": [
    "len(preds)"
   ]
  },
  {
   "cell_type": "code",
   "execution_count": 22,
   "metadata": {},
   "outputs": [],
   "source": [
    "import numpy as np\n",
    "apreds=np.array(preds)\n",
    "preds2=apreds.reshape([8,12])"
   ]
  },
  {
   "cell_type": "code",
   "execution_count": null,
   "metadata": {},
   "outputs": [],
   "source": []
  },
  {
   "cell_type": "code",
   "execution_count": 23,
   "metadata": {},
   "outputs": [
    {
     "data": {
      "text/plain": [
       "array([{'S': '0'}, {'S': '2'}, {'S': '1'}, {'S': '3'}, {'S': '0'},\n",
       "       {'S': '1'}, {'S': '2'}, {'S': '1'}, {'S': '1'}, {'S': '0'},\n",
       "       {'S': '3'}, {'S': '0'}], dtype=object)"
      ]
     },
     "execution_count": 23,
     "metadata": {},
     "output_type": "execute_result"
    }
   ],
   "source": [
    "preds2[0]"
   ]
  },
  {
   "cell_type": "code",
   "execution_count": 24,
   "metadata": {},
   "outputs": [],
   "source": [
    "fpreds=[]\n",
    "for x in preds2:\n",
    "    fpreds.append(x.reshape([6,2]))"
   ]
  },
  {
   "cell_type": "code",
   "execution_count": 28,
   "metadata": {},
   "outputs": [
    {
     "data": {
      "text/plain": [
       "[array([[{'S': '0'}, {'S': '2'}],\n",
       "        [{'S': '1'}, {'S': '3'}],\n",
       "        [{'S': '0'}, {'S': '1'}],\n",
       "        [{'S': '2'}, {'S': '1'}],\n",
       "        [{'S': '1'}, {'S': '0'}],\n",
       "        [{'S': '3'}, {'S': '0'}]], dtype=object),\n",
       " array([[{'S': '3'}, {'S': '0'}],\n",
       "        [{'S': '1'}, {'S': '1'}],\n",
       "        [{'S': '1'}, {'S': '0'}],\n",
       "        [{'S': '2'}, {'S': '1'}],\n",
       "        [{'S': '0'}, {'S': '1'}],\n",
       "        [{'S': '0'}, {'S': '2'}]], dtype=object),\n",
       " array([[{'S': '2'}, {'S': '0'}],\n",
       "        [{'S': '1'}, {'S': '1'}],\n",
       "        [{'S': '3'}, {'S': '0'}],\n",
       "        [{'S': '2'}, {'S': '1'}],\n",
       "        [{'S': '0'}, {'S': '2'}],\n",
       "        [{'S': '0'}, {'S': '1'}]], dtype=object),\n",
       " array([[{'S': '2'}, {'S': '0'}],\n",
       "        [{'S': '3'}, {'S': '1'}],\n",
       "        [{'S': '1'}, {'S': '1'}],\n",
       "        [{'S': '2'}, {'S': '2'}],\n",
       "        [{'S': '0'}, {'S': '2'}],\n",
       "        [{'S': '0'}, {'S': '1'}]], dtype=object),\n",
       " array([[{'S': '1'}, {'S': '0'}],\n",
       "        [{'S': '2'}, {'S': '1'}],\n",
       "        [{'S': '1'}, {'S': '0'}],\n",
       "        [{'S': '2'}, {'S': '2'}],\n",
       "        [{'S': '0'}, {'S': '3'}],\n",
       "        [{'S': '1'}, {'S': '2'}]], dtype=object),\n",
       " array([[{'S': '0'}, {'S': '2'}],\n",
       "        [{'S': '3'}, {'S': '0'}],\n",
       "        [{'S': '2'}, {'S': '0'}],\n",
       "        [{'S': '1'}, {'S': '0'}],\n",
       "        [{'S': '1'}, {'S': '2'}],\n",
       "        [{'S': '1'}, {'S': '0'}]], dtype=object),\n",
       " array([[{'S': '1'}, {'S': '0'}],\n",
       "        [{'S': '3'}, {'S': '0'}],\n",
       "        [{'S': '1'}, {'S': '1'}],\n",
       "        [{'S': '2'}, {'S': '1'}],\n",
       "        [{'S': '0'}, {'S': '1'}],\n",
       "        [{'S': '1'}, {'S': '5'}]], dtype=object),\n",
       " array([[{'S': '1'}, {'S': '0'}],\n",
       "        [{'S': '2'}, {'S': '1'}],\n",
       "        [{'S': '0'}, {'S': '1'}],\n",
       "        [{'S': '1'}, {'S': '1'}],\n",
       "        [{'S': '0'}, {'S': '2'}],\n",
       "        [{'S': '1'}, {'S': '3'}]], dtype=object)]"
      ]
     },
     "execution_count": 28,
     "metadata": {},
     "output_type": "execute_result"
    }
   ],
   "source": [
    "fpreds"
   ]
  },
  {
   "cell_type": "code",
   "execution_count": 29,
   "metadata": {},
   "outputs": [
    {
     "data": {
      "text/plain": [
       "48"
      ]
     },
     "execution_count": 29,
     "metadata": {},
     "output_type": "execute_result"
    }
   ],
   "source": [
    "len(fix[:48])"
   ]
  },
  {
   "cell_type": "code",
   "execution_count": 30,
   "metadata": {},
   "outputs": [],
   "source": [
    "def calculoPuntos(fix,n):\n",
    "    print(df.name.iloc[n])\n",
    "    preds=json.loads(df.preds.iloc[n])\n",
    "    finished=partidosTerminados(fix)\n",
    "    preds_dict=get_preds_dict(fix,preds)\n",
    "    puntos=[]\n",
    "    for x in finished:\n",
    "        print('Resultado:',x['team_1'],x['goal_1_opta'],x['team_2'],x['goal_2_opta'])\n",
    "        print('Prediccion:',x['team_1'],preds_dict[x['match_id']][0]['S'],x['team_2'],preds_dict[x['match_id']][1]['S'])\n",
    "\n",
    "        resultado = (int(x['goal_1_opta']), int(x['goal_2_opta']))\n",
    "        prediccion = (int(preds_dict[x['match_id']][0]['S']), int(preds_dict[x['match_id']][1]['S']))\n",
    "        score=puntaje(prediccion, resultado)\n",
    "        puntos.append(score)\n",
    "        print('Obtuviste:',score ,'puntos')\n",
    "        print()\n",
    "    print('Total ',np.array(puntos).sum(),'Puntos.')\n",
    "\n",
    "def calculoScore(fix,preds):\n",
    "    finished=partidosTerminados(fix)\n",
    "    preds_dict=get_preds_dict(fix,preds)\n",
    "    puntos=[]\n",
    "    for x in finished:\n",
    "  \n",
    "        resultado = (int(x['goal_1_opta']), int(x['goal_2_opta']))\n",
    "        prediccion = (int(preds_dict[x['match_id']][0]['S']), int(preds_dict[x['match_id']][1]['S']))\n",
    "        score=puntaje(prediccion, resultado)\n",
    "        puntos.append(score)\n",
    "    return np.array(puntos).sum()"
   ]
  },
  {
   "cell_type": "code",
   "execution_count": 31,
   "metadata": {},
   "outputs": [],
   "source": [
    "def get_preds_dict(fix,preds):\n",
    "    groups=['A','B','C','D','E','F','G','H']\n",
    "\n",
    "    fixGrupos=[]\n",
    "    for n in groups:\n",
    "        grupo=[]\n",
    "        for x in fix[:48]:\n",
    "            if x['group']== n:\n",
    "                grupo.append(x)\n",
    "        fixGrupos.append(grupo)       \n",
    "\n",
    "    ids_partidos=[]\n",
    "    for i,x in enumerate(fixGrupos):\n",
    "        for j,y in enumerate(x):\n",
    "            if j == 4:\n",
    "                ids_partidos.append(x[5]['match_id'])\n",
    "            elif j == 5:\n",
    "                ids_partidos.append(x[4]['match_id'])\n",
    "            else:\n",
    "                ids_partidos.append(y['match_id'])\n",
    "    apreds=np.array(preds)\n",
    "    preds48x2=apreds.reshape([48,2])\n",
    "    preds_dict=dict(zip(ids_partidos, preds48x2))     \n",
    "    return preds_dict\n",
    "\n",
    "def puntaje(prediccion, resultado):\n",
    "    if prediccion == resultado:\n",
    "        return 5\n",
    "\n",
    "    if np.sign(resultado[0] - resultado[1]) == np.sign(prediccion[0] - prediccion[1]):\n",
    "        return 3\n",
    "\n",
    "    return 0"
   ]
  },
  {
   "cell_type": "code",
   "execution_count": 32,
   "metadata": {},
   "outputs": [
    {
     "data": {
      "text/html": [
       "<div>\n",
       "<style scoped>\n",
       "    .dataframe tbody tr th:only-of-type {\n",
       "        vertical-align: middle;\n",
       "    }\n",
       "\n",
       "    .dataframe tbody tr th {\n",
       "        vertical-align: top;\n",
       "    }\n",
       "\n",
       "    .dataframe thead th {\n",
       "        text-align: right;\n",
       "    }\n",
       "</style>\n",
       "<table border=\"1\" class=\"dataframe\">\n",
       "  <thead>\n",
       "    <tr style=\"text-align: right;\">\n",
       "      <th></th>\n",
       "      <th>id</th>\n",
       "      <th>name</th>\n",
       "      <th>preds</th>\n",
       "    </tr>\n",
       "  </thead>\n",
       "  <tbody>\n",
       "    <tr>\n",
       "      <th>0</th>\n",
       "      <td>12525649_lgtrombetta@gmail.com</td>\n",
       "      <td>Leonardo</td>\n",
       "      <td>[{\"S\":\"0\"},{\"S\":\"2\"},{\"S\":\"1\"},{\"S\":\"3\"},{\"S\":...</td>\n",
       "    </tr>\n",
       "    <tr>\n",
       "      <th>1</th>\n",
       "      <td>83230506_esonoparecefuncionar@gmail.com</td>\n",
       "      <td>Mer</td>\n",
       "      <td>[{\"S\":\"1\"},{\"S\":\"2\"},{\"S\":\"1\"},{\"S\":\"2\"},{\"S\":...</td>\n",
       "    </tr>\n",
       "    <tr>\n",
       "      <th>2</th>\n",
       "      <td>26915036_fede.barabas@gmail.com</td>\n",
       "      <td>Fede</td>\n",
       "      <td>[{\"S\":\"0\"},{\"S\":\"2\"},{\"S\":\"1\"},{\"S\":\"1\"},{\"S\":...</td>\n",
       "    </tr>\n",
       "    <tr>\n",
       "      <th>3</th>\n",
       "      <td>415250188_nahuel.freitas@gmail.com</td>\n",
       "      <td>freitas</td>\n",
       "      <td>[{\"S\":\"1\"},{\"S\":\"1\"},{\"S\":\"0\"},{\"S\":\"2\"},{\"S\":...</td>\n",
       "    </tr>\n",
       "    <tr>\n",
       "      <th>4</th>\n",
       "      <td>1277024606_null</td>\n",
       "      <td>Juli</td>\n",
       "      <td>[{\"S\":\"1\"},{\"S\":\"1\"},{\"S\":\"0\"},{\"S\":\"3\"},{\"S\":...</td>\n",
       "    </tr>\n",
       "    <tr>\n",
       "      <th>5</th>\n",
       "      <td>720065757_ariel.haimovici@gmail.com</td>\n",
       "      <td>Ariel</td>\n",
       "      <td>[{\"S\":\"0\"},{\"S\":\"1\"},{\"S\":\"0\"},{\"S\":\"2\"},{\"S\":...</td>\n",
       "    </tr>\n",
       "    <tr>\n",
       "      <th>6</th>\n",
       "      <td>153626114_null</td>\n",
       "      <td>Ionatan</td>\n",
       "      <td>[{\"S\":\"1\"},{\"S\":\"1\"},{\"S\":\"1\"},{\"S\":\"2\"},{\"S\":...</td>\n",
       "    </tr>\n",
       "    <tr>\n",
       "      <th>7</th>\n",
       "      <td>5206321186_ghisolfi_alina@hotmail.com</td>\n",
       "      <td>Alina</td>\n",
       "      <td>[{\"S\":\"1\"},{\"S\":\"0\"},{\"S\":\"1\"},{\"S\":\"2\"},{\"S\":...</td>\n",
       "    </tr>\n",
       "    <tr>\n",
       "      <th>8</th>\n",
       "      <td>619906008_marianobarella@gmail.com</td>\n",
       "      <td>Mariano</td>\n",
       "      <td>[{\"S\":\"1\"},{\"S\":\"2\"},{\"S\":\"1\"},{\"S\":\"1\"},{\"S\":...</td>\n",
       "    </tr>\n",
       "    <tr>\n",
       "      <th>9</th>\n",
       "      <td>666_ionatanlist@gmail.com</td>\n",
       "      <td>Pruebas</td>\n",
       "      <td>[{\"S\":\"1\"},{\"S\":\"1\"},{\"S\":\"2\"},{\"S\":\"2\"},{\"S\":...</td>\n",
       "    </tr>\n",
       "    <tr>\n",
       "      <th>10</th>\n",
       "      <td>630434327_andresarmua@gmail.com</td>\n",
       "      <td>Andres</td>\n",
       "      <td>[{\"S\":\"1\"},{\"S\":\"2\"},{\"S\":\"0\"},{\"S\":\"3\"},{\"S\":...</td>\n",
       "    </tr>\n",
       "    <tr>\n",
       "      <th>11</th>\n",
       "      <td>224798982_culo@sfsd</td>\n",
       "      <td>fer</td>\n",
       "      <td>[{\"S\":\"0\"},{\"S\":\"0\"},{\"S\":\"0\"},{\"S\":\"0\"},{\"S\":...</td>\n",
       "    </tr>\n",
       "    <tr>\n",
       "      <th>12</th>\n",
       "      <td>153626114_ionatan@gmail.com</td>\n",
       "      <td>Ionatan</td>\n",
       "      <td>[{\"S\":\"1\"},{\"S\":\"1\"},{\"S\":\"1\"},{\"S\":\"2\"},{\"S\":...</td>\n",
       "    </tr>\n",
       "    <tr>\n",
       "      <th>13</th>\n",
       "      <td>1277024606_gelpi640@gmail.com</td>\n",
       "      <td>Juli</td>\n",
       "      <td>[{\"S\":\"1\"},{\"S\":\"1\"},{\"S\":\"0\"},{\"S\":\"3\"},{\"S\":...</td>\n",
       "    </tr>\n",
       "  </tbody>\n",
       "</table>\n",
       "</div>"
      ],
      "text/plain": [
       "                                         id      name  \\\n",
       "0            12525649_lgtrombetta@gmail.com  Leonardo   \n",
       "1   83230506_esonoparecefuncionar@gmail.com       Mer   \n",
       "2           26915036_fede.barabas@gmail.com      Fede   \n",
       "3        415250188_nahuel.freitas@gmail.com   freitas   \n",
       "4                           1277024606_null      Juli   \n",
       "5      720065757_ariel.haimovici@gmail.com      Ariel   \n",
       "6                            153626114_null   Ionatan   \n",
       "7     5206321186_ghisolfi_alina@hotmail.com     Alina   \n",
       "8        619906008_marianobarella@gmail.com   Mariano   \n",
       "9                 666_ionatanlist@gmail.com   Pruebas   \n",
       "10          630434327_andresarmua@gmail.com    Andres   \n",
       "11                      224798982_culo@sfsd       fer   \n",
       "12              153626114_ionatan@gmail.com   Ionatan   \n",
       "13            1277024606_gelpi640@gmail.com      Juli   \n",
       "\n",
       "                                                preds  \n",
       "0   [{\"S\":\"0\"},{\"S\":\"2\"},{\"S\":\"1\"},{\"S\":\"3\"},{\"S\":...  \n",
       "1   [{\"S\":\"1\"},{\"S\":\"2\"},{\"S\":\"1\"},{\"S\":\"2\"},{\"S\":...  \n",
       "2   [{\"S\":\"0\"},{\"S\":\"2\"},{\"S\":\"1\"},{\"S\":\"1\"},{\"S\":...  \n",
       "3   [{\"S\":\"1\"},{\"S\":\"1\"},{\"S\":\"0\"},{\"S\":\"2\"},{\"S\":...  \n",
       "4   [{\"S\":\"1\"},{\"S\":\"1\"},{\"S\":\"0\"},{\"S\":\"3\"},{\"S\":...  \n",
       "5   [{\"S\":\"0\"},{\"S\":\"1\"},{\"S\":\"0\"},{\"S\":\"2\"},{\"S\":...  \n",
       "6   [{\"S\":\"1\"},{\"S\":\"1\"},{\"S\":\"1\"},{\"S\":\"2\"},{\"S\":...  \n",
       "7   [{\"S\":\"1\"},{\"S\":\"0\"},{\"S\":\"1\"},{\"S\":\"2\"},{\"S\":...  \n",
       "8   [{\"S\":\"1\"},{\"S\":\"2\"},{\"S\":\"1\"},{\"S\":\"1\"},{\"S\":...  \n",
       "9   [{\"S\":\"1\"},{\"S\":\"1\"},{\"S\":\"2\"},{\"S\":\"2\"},{\"S\":...  \n",
       "10  [{\"S\":\"1\"},{\"S\":\"2\"},{\"S\":\"0\"},{\"S\":\"3\"},{\"S\":...  \n",
       "11  [{\"S\":\"0\"},{\"S\":\"0\"},{\"S\":\"0\"},{\"S\":\"0\"},{\"S\":...  \n",
       "12  [{\"S\":\"1\"},{\"S\":\"1\"},{\"S\":\"1\"},{\"S\":\"2\"},{\"S\":...  \n",
       "13  [{\"S\":\"1\"},{\"S\":\"1\"},{\"S\":\"0\"},{\"S\":\"3\"},{\"S\":...  "
      ]
     },
     "execution_count": 32,
     "metadata": {},
     "output_type": "execute_result"
    }
   ],
   "source": [
    "df"
   ]
  },
  {
   "cell_type": "markdown",
   "metadata": {},
   "source": [
    "# Armo la tabla"
   ]
  },
  {
   "cell_type": "code",
   "execution_count": 34,
   "metadata": {},
   "outputs": [],
   "source": [
    "def tablapuntos(x):\n",
    "    preds=json.loads(x)\n",
    "    return calculoScore(fix,preds)"
   ]
  },
  {
   "cell_type": "code",
   "execution_count": 35,
   "metadata": {},
   "outputs": [],
   "source": [
    "puntos=df.preds.apply(lambda x: tablapuntos(x))"
   ]
  },
  {
   "cell_type": "code",
   "execution_count": 36,
   "metadata": {},
   "outputs": [],
   "source": [
    "df['puntos']=puntos"
   ]
  },
  {
   "cell_type": "code",
   "execution_count": 37,
   "metadata": {
    "scrolled": false
   },
   "outputs": [
    {
     "data": {
      "text/html": [
       "<div>\n",
       "<style scoped>\n",
       "    .dataframe tbody tr th:only-of-type {\n",
       "        vertical-align: middle;\n",
       "    }\n",
       "\n",
       "    .dataframe tbody tr th {\n",
       "        vertical-align: top;\n",
       "    }\n",
       "\n",
       "    .dataframe thead th {\n",
       "        text-align: right;\n",
       "    }\n",
       "</style>\n",
       "<table border=\"1\" class=\"dataframe\">\n",
       "  <thead>\n",
       "    <tr style=\"text-align: right;\">\n",
       "      <th></th>\n",
       "      <th>id</th>\n",
       "      <th>name</th>\n",
       "      <th>preds</th>\n",
       "      <th>puntos</th>\n",
       "    </tr>\n",
       "  </thead>\n",
       "  <tbody>\n",
       "    <tr>\n",
       "      <th>0</th>\n",
       "      <td>12525649_lgtrombetta@gmail.com</td>\n",
       "      <td>Leonardo</td>\n",
       "      <td>[{\"S\":\"0\"},{\"S\":\"2\"},{\"S\":\"1\"},{\"S\":\"3\"},{\"S\":...</td>\n",
       "      <td>39</td>\n",
       "    </tr>\n",
       "    <tr>\n",
       "      <th>5</th>\n",
       "      <td>720065757_ariel.haimovici@gmail.com</td>\n",
       "      <td>Ariel</td>\n",
       "      <td>[{\"S\":\"0\"},{\"S\":\"1\"},{\"S\":\"0\"},{\"S\":\"2\"},{\"S\":...</td>\n",
       "      <td>39</td>\n",
       "    </tr>\n",
       "    <tr>\n",
       "      <th>2</th>\n",
       "      <td>26915036_fede.barabas@gmail.com</td>\n",
       "      <td>Fede</td>\n",
       "      <td>[{\"S\":\"0\"},{\"S\":\"2\"},{\"S\":\"1\"},{\"S\":\"1\"},{\"S\":...</td>\n",
       "      <td>33</td>\n",
       "    </tr>\n",
       "    <tr>\n",
       "      <th>8</th>\n",
       "      <td>619906008_marianobarella@gmail.com</td>\n",
       "      <td>Mariano</td>\n",
       "      <td>[{\"S\":\"1\"},{\"S\":\"2\"},{\"S\":\"1\"},{\"S\":\"1\"},{\"S\":...</td>\n",
       "      <td>33</td>\n",
       "    </tr>\n",
       "    <tr>\n",
       "      <th>1</th>\n",
       "      <td>83230506_esonoparecefuncionar@gmail.com</td>\n",
       "      <td>Mer</td>\n",
       "      <td>[{\"S\":\"1\"},{\"S\":\"2\"},{\"S\":\"1\"},{\"S\":\"2\"},{\"S\":...</td>\n",
       "      <td>30</td>\n",
       "    </tr>\n",
       "    <tr>\n",
       "      <th>3</th>\n",
       "      <td>415250188_nahuel.freitas@gmail.com</td>\n",
       "      <td>freitas</td>\n",
       "      <td>[{\"S\":\"1\"},{\"S\":\"1\"},{\"S\":\"0\"},{\"S\":\"2\"},{\"S\":...</td>\n",
       "      <td>30</td>\n",
       "    </tr>\n",
       "    <tr>\n",
       "      <th>4</th>\n",
       "      <td>1277024606_null</td>\n",
       "      <td>Juli</td>\n",
       "      <td>[{\"S\":\"1\"},{\"S\":\"1\"},{\"S\":\"0\"},{\"S\":\"3\"},{\"S\":...</td>\n",
       "      <td>29</td>\n",
       "    </tr>\n",
       "    <tr>\n",
       "      <th>6</th>\n",
       "      <td>153626114_null</td>\n",
       "      <td>Ionatan</td>\n",
       "      <td>[{\"S\":\"1\"},{\"S\":\"1\"},{\"S\":\"1\"},{\"S\":\"2\"},{\"S\":...</td>\n",
       "      <td>29</td>\n",
       "    </tr>\n",
       "    <tr>\n",
       "      <th>13</th>\n",
       "      <td>1277024606_gelpi640@gmail.com</td>\n",
       "      <td>Juli</td>\n",
       "      <td>[{\"S\":\"1\"},{\"S\":\"1\"},{\"S\":\"0\"},{\"S\":\"3\"},{\"S\":...</td>\n",
       "      <td>29</td>\n",
       "    </tr>\n",
       "    <tr>\n",
       "      <th>7</th>\n",
       "      <td>5206321186_ghisolfi_alina@hotmail.com</td>\n",
       "      <td>Alina</td>\n",
       "      <td>[{\"S\":\"1\"},{\"S\":\"0\"},{\"S\":\"1\"},{\"S\":\"2\"},{\"S\":...</td>\n",
       "      <td>27</td>\n",
       "    </tr>\n",
       "    <tr>\n",
       "      <th>10</th>\n",
       "      <td>630434327_andresarmua@gmail.com</td>\n",
       "      <td>Andres</td>\n",
       "      <td>[{\"S\":\"1\"},{\"S\":\"2\"},{\"S\":\"0\"},{\"S\":\"3\"},{\"S\":...</td>\n",
       "      <td>27</td>\n",
       "    </tr>\n",
       "    <tr>\n",
       "      <th>12</th>\n",
       "      <td>153626114_ionatan@gmail.com</td>\n",
       "      <td>Ionatan</td>\n",
       "      <td>[{\"S\":\"1\"},{\"S\":\"1\"},{\"S\":\"1\"},{\"S\":\"2\"},{\"S\":...</td>\n",
       "      <td>24</td>\n",
       "    </tr>\n",
       "    <tr>\n",
       "      <th>9</th>\n",
       "      <td>666_ionatanlist@gmail.com</td>\n",
       "      <td>Pruebas</td>\n",
       "      <td>[{\"S\":\"1\"},{\"S\":\"1\"},{\"S\":\"2\"},{\"S\":\"2\"},{\"S\":...</td>\n",
       "      <td>23</td>\n",
       "    </tr>\n",
       "    <tr>\n",
       "      <th>11</th>\n",
       "      <td>224798982_culo@sfsd</td>\n",
       "      <td>fer</td>\n",
       "      <td>[{\"S\":\"0\"},{\"S\":\"0\"},{\"S\":\"0\"},{\"S\":\"0\"},{\"S\":...</td>\n",
       "      <td>23</td>\n",
       "    </tr>\n",
       "  </tbody>\n",
       "</table>\n",
       "</div>"
      ],
      "text/plain": [
       "                                         id      name  \\\n",
       "0            12525649_lgtrombetta@gmail.com  Leonardo   \n",
       "5      720065757_ariel.haimovici@gmail.com      Ariel   \n",
       "2           26915036_fede.barabas@gmail.com      Fede   \n",
       "8        619906008_marianobarella@gmail.com   Mariano   \n",
       "1   83230506_esonoparecefuncionar@gmail.com       Mer   \n",
       "3        415250188_nahuel.freitas@gmail.com   freitas   \n",
       "4                           1277024606_null      Juli   \n",
       "6                            153626114_null   Ionatan   \n",
       "13            1277024606_gelpi640@gmail.com      Juli   \n",
       "7     5206321186_ghisolfi_alina@hotmail.com     Alina   \n",
       "10          630434327_andresarmua@gmail.com    Andres   \n",
       "12              153626114_ionatan@gmail.com   Ionatan   \n",
       "9                 666_ionatanlist@gmail.com   Pruebas   \n",
       "11                      224798982_culo@sfsd       fer   \n",
       "\n",
       "                                                preds  puntos  \n",
       "0   [{\"S\":\"0\"},{\"S\":\"2\"},{\"S\":\"1\"},{\"S\":\"3\"},{\"S\":...      39  \n",
       "5   [{\"S\":\"0\"},{\"S\":\"1\"},{\"S\":\"0\"},{\"S\":\"2\"},{\"S\":...      39  \n",
       "2   [{\"S\":\"0\"},{\"S\":\"2\"},{\"S\":\"1\"},{\"S\":\"1\"},{\"S\":...      33  \n",
       "8   [{\"S\":\"1\"},{\"S\":\"2\"},{\"S\":\"1\"},{\"S\":\"1\"},{\"S\":...      33  \n",
       "1   [{\"S\":\"1\"},{\"S\":\"2\"},{\"S\":\"1\"},{\"S\":\"2\"},{\"S\":...      30  \n",
       "3   [{\"S\":\"1\"},{\"S\":\"1\"},{\"S\":\"0\"},{\"S\":\"2\"},{\"S\":...      30  \n",
       "4   [{\"S\":\"1\"},{\"S\":\"1\"},{\"S\":\"0\"},{\"S\":\"3\"},{\"S\":...      29  \n",
       "6   [{\"S\":\"1\"},{\"S\":\"1\"},{\"S\":\"1\"},{\"S\":\"2\"},{\"S\":...      29  \n",
       "13  [{\"S\":\"1\"},{\"S\":\"1\"},{\"S\":\"0\"},{\"S\":\"3\"},{\"S\":...      29  \n",
       "7   [{\"S\":\"1\"},{\"S\":\"0\"},{\"S\":\"1\"},{\"S\":\"2\"},{\"S\":...      27  \n",
       "10  [{\"S\":\"1\"},{\"S\":\"2\"},{\"S\":\"0\"},{\"S\":\"3\"},{\"S\":...      27  \n",
       "12  [{\"S\":\"1\"},{\"S\":\"1\"},{\"S\":\"1\"},{\"S\":\"2\"},{\"S\":...      24  \n",
       "9   [{\"S\":\"1\"},{\"S\":\"1\"},{\"S\":\"2\"},{\"S\":\"2\"},{\"S\":...      23  \n",
       "11  [{\"S\":\"0\"},{\"S\":\"0\"},{\"S\":\"0\"},{\"S\":\"0\"},{\"S\":...      23  "
      ]
     },
     "execution_count": 37,
     "metadata": {},
     "output_type": "execute_result"
    }
   ],
   "source": [
    "df.sort_values('puntos',ascending=False)"
   ]
  },
  {
   "cell_type": "code",
   "execution_count": 42,
   "metadata": {},
   "outputs": [],
   "source": [
    "df2=df.sort_values('puntos',ascending=False)"
   ]
  },
  {
   "cell_type": "code",
   "execution_count": 45,
   "metadata": {},
   "outputs": [
    {
     "data": {
      "text/html": [
       "<div>\n",
       "<style scoped>\n",
       "    .dataframe tbody tr th:only-of-type {\n",
       "        vertical-align: middle;\n",
       "    }\n",
       "\n",
       "    .dataframe tbody tr th {\n",
       "        vertical-align: top;\n",
       "    }\n",
       "\n",
       "    .dataframe thead th {\n",
       "        text-align: right;\n",
       "    }\n",
       "</style>\n",
       "<table border=\"1\" class=\"dataframe\">\n",
       "  <thead>\n",
       "    <tr style=\"text-align: right;\">\n",
       "      <th></th>\n",
       "      <th>name</th>\n",
       "      <th>puntos</th>\n",
       "    </tr>\n",
       "  </thead>\n",
       "  <tbody>\n",
       "    <tr>\n",
       "      <th>0</th>\n",
       "      <td>Leonardo</td>\n",
       "      <td>39</td>\n",
       "    </tr>\n",
       "    <tr>\n",
       "      <th>5</th>\n",
       "      <td>Ariel</td>\n",
       "      <td>39</td>\n",
       "    </tr>\n",
       "    <tr>\n",
       "      <th>2</th>\n",
       "      <td>Fede</td>\n",
       "      <td>33</td>\n",
       "    </tr>\n",
       "    <tr>\n",
       "      <th>8</th>\n",
       "      <td>Mariano</td>\n",
       "      <td>33</td>\n",
       "    </tr>\n",
       "    <tr>\n",
       "      <th>1</th>\n",
       "      <td>Mer</td>\n",
       "      <td>30</td>\n",
       "    </tr>\n",
       "    <tr>\n",
       "      <th>3</th>\n",
       "      <td>freitas</td>\n",
       "      <td>30</td>\n",
       "    </tr>\n",
       "    <tr>\n",
       "      <th>4</th>\n",
       "      <td>Juli</td>\n",
       "      <td>29</td>\n",
       "    </tr>\n",
       "    <tr>\n",
       "      <th>6</th>\n",
       "      <td>Ionatan</td>\n",
       "      <td>29</td>\n",
       "    </tr>\n",
       "    <tr>\n",
       "      <th>13</th>\n",
       "      <td>Juli</td>\n",
       "      <td>29</td>\n",
       "    </tr>\n",
       "    <tr>\n",
       "      <th>7</th>\n",
       "      <td>Alina</td>\n",
       "      <td>27</td>\n",
       "    </tr>\n",
       "    <tr>\n",
       "      <th>10</th>\n",
       "      <td>Andres</td>\n",
       "      <td>27</td>\n",
       "    </tr>\n",
       "    <tr>\n",
       "      <th>12</th>\n",
       "      <td>Ionatan</td>\n",
       "      <td>24</td>\n",
       "    </tr>\n",
       "    <tr>\n",
       "      <th>9</th>\n",
       "      <td>Pruebas</td>\n",
       "      <td>23</td>\n",
       "    </tr>\n",
       "    <tr>\n",
       "      <th>11</th>\n",
       "      <td>fer</td>\n",
       "      <td>23</td>\n",
       "    </tr>\n",
       "  </tbody>\n",
       "</table>\n",
       "</div>"
      ],
      "text/plain": [
       "        name  puntos\n",
       "0   Leonardo      39\n",
       "5      Ariel      39\n",
       "2       Fede      33\n",
       "8    Mariano      33\n",
       "1        Mer      30\n",
       "3    freitas      30\n",
       "4       Juli      29\n",
       "6    Ionatan      29\n",
       "13      Juli      29\n",
       "7      Alina      27\n",
       "10    Andres      27\n",
       "12   Ionatan      24\n",
       "9    Pruebas      23\n",
       "11       fer      23"
      ]
     },
     "execution_count": 45,
     "metadata": {},
     "output_type": "execute_result"
    }
   ],
   "source": [
    "df2.drop(['id','preds'], axis=1)"
   ]
  },
  {
   "cell_type": "code",
   "execution_count": null,
   "metadata": {},
   "outputs": [],
   "source": []
  },
  {
   "cell_type": "code",
   "execution_count": null,
   "metadata": {},
   "outputs": [],
   "source": []
  },
  {
   "cell_type": "markdown",
   "metadata": {},
   "source": [
    "# Partidos Hoy"
   ]
  },
  {
   "cell_type": "code",
   "execution_count": 38,
   "metadata": {},
   "outputs": [
    {
     "data": {
      "text/plain": [
       "[{'match_id': 2277810,\n",
       "  'points': 0,\n",
       "  'team_1': 'Gales',\n",
       "  'team_1_id': 508,\n",
       "  'team_2': 'Irán',\n",
       "  'team_2_id': 1042,\n",
       "  'goal_1': None,\n",
       "  'goal_2': None,\n",
       "  'goal_1_opta': None,\n",
       "  'goal_2_opta': None,\n",
       "  'penalty_1_opta': None,\n",
       "  'penalty_2_opta': None,\n",
       "  'winner': None,\n",
       "  'group': 'B',\n",
       "  'datetime': '2022-11-25T10:00:00Z',\n",
       "  'locked': True,\n",
       "  'minutes_left_to_start_match': -1,\n",
       "  'status': 'playing'},\n",
       " {'match_id': 2277807,\n",
       "  'points': 0,\n",
       "  'team_1': 'Qatar',\n",
       "  'team_1_id': 1873,\n",
       "  'team_2': 'Senegal',\n",
       "  'team_2_id': 1226,\n",
       "  'goal_1': 1,\n",
       "  'goal_2': 2,\n",
       "  'goal_1_opta': None,\n",
       "  'goal_2_opta': None,\n",
       "  'penalty_1_opta': None,\n",
       "  'penalty_2_opta': None,\n",
       "  'winner': 1226,\n",
       "  'group': 'A',\n",
       "  'datetime': '2022-11-25T13:00:00Z',\n",
       "  'locked': False,\n",
       "  'minutes_left_to_start_match': 178,\n",
       "  'status': 'pre_match'},\n",
       " {'match_id': 2277808,\n",
       "  'points': 0,\n",
       "  'team_1': 'Holanda',\n",
       "  'team_1_id': 366,\n",
       "  'team_2': 'Ecuador',\n",
       "  'team_2_id': 830,\n",
       "  'goal_1': 3,\n",
       "  'goal_2': 4,\n",
       "  'goal_1_opta': None,\n",
       "  'goal_2_opta': None,\n",
       "  'penalty_1_opta': None,\n",
       "  'penalty_2_opta': None,\n",
       "  'winner': 830,\n",
       "  'group': 'A',\n",
       "  'datetime': '2022-11-25T16:00:00Z',\n",
       "  'locked': False,\n",
       "  'minutes_left_to_start_match': 358,\n",
       "  'status': 'pre_match'},\n",
       " {'match_id': 2277809,\n",
       "  'points': 0,\n",
       "  'team_1': 'Inglaterra',\n",
       "  'team_1_id': 114,\n",
       "  'team_2': 'EE.UU.',\n",
       "  'team_2_id': 596,\n",
       "  'goal_1': None,\n",
       "  'goal_2': None,\n",
       "  'goal_1_opta': None,\n",
       "  'goal_2_opta': None,\n",
       "  'penalty_1_opta': None,\n",
       "  'penalty_2_opta': None,\n",
       "  'winner': None,\n",
       "  'group': 'B',\n",
       "  'datetime': '2022-11-25T19:00:00Z',\n",
       "  'locked': False,\n",
       "  'minutes_left_to_start_match': 538,\n",
       "  'status': 'pre_match'}]"
      ]
     },
     "execution_count": 38,
     "metadata": {},
     "output_type": "execute_result"
    }
   ],
   "source": [
    "partidosHoy(fix)"
   ]
  },
  {
   "cell_type": "code",
   "execution_count": null,
   "metadata": {},
   "outputs": [],
   "source": []
  },
  {
   "cell_type": "code",
   "execution_count": 39,
   "metadata": {},
   "outputs": [],
   "source": [
    "def printHoy():\n",
    "    hoy=partidosHoy(fix)\n",
    "    for x in hoy:\n",
    "        print(x['team_1'],' vs. ',x['team_2'],'-',datetime.strptime(x['datetime'], '%Y-%m-%dT%H:%M:%S%z').astimezone(ZoneInfo('America/Buenos_Aires')).hour,'Hs.')"
   ]
  },
  {
   "cell_type": "code",
   "execution_count": 40,
   "metadata": {},
   "outputs": [
    {
     "name": "stdout",
     "output_type": "stream",
     "text": [
      "Gales  vs.  Irán - 7 Hs.\n",
      "Qatar  vs.  Senegal - 10 Hs.\n",
      "Holanda  vs.  Ecuador - 13 Hs.\n",
      "Inglaterra  vs.  EE.UU. - 16 Hs.\n"
     ]
    }
   ],
   "source": [
    "printHoy()"
   ]
  }
 ],
 "metadata": {
  "kernelspec": {
   "display_name": "Python 3 (ipykernel)",
   "language": "python",
   "name": "python3"
  },
  "language_info": {
   "codemirror_mode": {
    "name": "ipython",
    "version": 3
   },
   "file_extension": ".py",
   "mimetype": "text/x-python",
   "name": "python",
   "nbconvert_exporter": "python",
   "pygments_lexer": "ipython3",
   "version": "3.9.6"
  },
  "vscode": {
   "interpreter": {
    "hash": "31f2aee4e71d21fbe5cf8b01ff0e069b9275f58929596ceb00d14d90e3e16cd6"
   }
  }
 },
 "nbformat": 4,
 "nbformat_minor": 2
}
